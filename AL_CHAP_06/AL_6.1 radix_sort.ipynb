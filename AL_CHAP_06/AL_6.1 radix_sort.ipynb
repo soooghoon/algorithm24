{
 "cells": [
  {
   "cell_type": "markdown",
   "metadata": {},
   "source": [
    "---\n",
    "# 문제정의\n",
    "#### 항목들을 저장할 버킷들을 준비한다 ,입력 항목들을 순서대로 킷값에 따라 해당 버킷에 넣는다, 위쪽 버킷부터 순차적으로 버킷 안에 들어 있는 수자를 출력한다. 기수란 숫자의 자릿수이다 기수정렬은 이러한 자릿수의 값에 따라서 정렬하기 때문에 기수 정렬이라는 이름을 얻었고 기수 정렬은 다단계 정렬인데 단계의 수 데이터의 전체 자릿수와 일치한다. "
   ]
  },
  {
   "cell_type": "markdown",
   "metadata": {},
   "source": [
    "---\n",
    "# 알고리즘 설명\n",
    "#### 기수 정렬에는 버킷을 위해 큐를 사용해야한다 버킷에 여러 개의 숫자가 들어 있다면 먼저 들어간 숫자가 먼저 나와야한다 그래야 이미 정렬한 자릿수에 의한 숫자들의 상대적인 순서가 계속 유지되기 때문이다 따라서 버킷은 큐로 규현되어야 한다 버킷에 숫자를 넣는것은 삽입 연산이고 숫자를 꺼내는것은 삭제연산이다"
   ]
  },
  {
   "cell_type": "markdown",
   "metadata": {},
   "source": [
    "---\n",
    "# 손으로 푼 예제\n",
    "![6.1 result](../img/img19.jpg)"
   ]
  },
  {
   "cell_type": "markdown",
   "metadata": {},
   "source": [
    "---\n",
    "# 코드개요\n",
    "#### 주석 참고"
   ]
  },
  {
   "cell_type": "markdown",
   "metadata": {},
   "source": [
    "---\n",
    "# 알고리즘 코드"
   ]
  },
  {
   "cell_type": "code",
   "execution_count": 3,
   "metadata": {},
   "outputs": [],
   "source": [
    "from queue import Queue #파이썬 QUEUE 모듈 사용\n",
    "\n",
    "def radix_sort(A):\n",
    "    queues = [] #큐의 리스트\n",
    "    for i in range(BUCKETS):\n",
    "        queues.append(Queue()) #BUCKETS개의 큐 사용 \n",
    "    \n",
    "    n = len(A)\n",
    "    factor = 1 #1의 자리부터 시작\n",
    "    \n",
    "    for d in range(DIGITS): #모든 자리에 대해 \n",
    "        for i in range(n): #자릿수에 따라 큐에 삽입\n",
    "            index = (A[i] // factor) % BUCKETS  #숫자를 삽입\n",
    "            queues[index].put(A[i])\n",
    "        \n",
    "        j = 0\n",
    "        for b in range(BUCKETS): #버킷에서 꺼내어 원래의 리스트로\n",
    "            while not queues[b].empty(): #B번째 큐가 공백이 아닌 동안\n",
    "                A[j] = queues[b].get() #원소를 꺼내 리스트의 저장\n",
    "                j += 1\n",
    "\n",
    "        factor *= BUCKETS #그다음 자릿수로 간다\n",
    "        print(\"step\", d+1, A) #중간 과정 출력용 문장 "
   ]
  },
  {
   "cell_type": "markdown",
   "metadata": {},
   "source": [
    "---\n",
    "# 테스트코드"
   ]
  },
  {
   "cell_type": "code",
   "execution_count": 4,
   "metadata": {},
   "outputs": [
    {
     "name": "stdout",
     "output_type": "stream",
     "text": [
      "step 1 [8610, 7140, 511, 7322, 6022, 3872, 9002, 1284, 6294, 1268]\n",
      "step 2 [9002, 8610, 511, 7322, 6022, 7140, 1268, 3872, 1284, 6294]\n",
      "step 3 [9002, 6022, 7140, 1268, 1284, 6294, 7322, 511, 8610, 3872]\n",
      "step 4 [511, 1268, 1284, 3872, 6022, 6294, 7140, 7322, 8610, 9002]\n",
      "Radix: [511, 1268, 1284, 3872, 6022, 6294, 7140, 7322, 8610, 9002]\n"
     ]
    }
   ],
   "source": [
    "import random #테스트를 위한 난수 발생을 위해 random 모듈 포함 \n",
    "\n",
    "BUCKETS = 10 #10진법으로 정렬 \n",
    "DIGITS = 4 #최대 4자릿수 \n",
    "\n",
    "\n",
    "data = [random.randint(1, 9999) for _ in range(10)] #1~9999 사이 숫자 10개 생성\n",
    "radix_sort(data) #기수 정렬\n",
    "print(\"Radix:\", data) #결과 출력"
   ]
  },
  {
   "cell_type": "markdown",
   "metadata": {},
   "source": [
    "---\n",
    "# 수행결과\n",
    "![6.1 result](../img/img18.jpg)"
   ]
  },
  {
   "cell_type": "markdown",
   "metadata": {},
   "source": [
    "---\n",
    "# 복잡도 분석\n",
    "\n",
    "#### T(n) = d(n+n) 기수 정렬 O(D . n)의 시간 복잡도를 갖는다 일반적으로 d는 n에비하여 아주 작은수가 되므로 기수 정렬은 O(n)이라고 하여도 무리가 없다 공간 복잡도는 정렬을 위해 다수의 큐가 사용되어야한다 전체 큐에 저장되는 항목의 수는 입력의 개수와 동일하다 따라서 추가적인 공간 복잡도는 O(n) 이다"
   ]
  },
  {
   "cell_type": "markdown",
   "metadata": {},
   "source": [
    "---\n",
    "# 조별협력내용\n",
    "#### 팀원이랑  함께 협력하여 알고리즘을 풀었음 "
   ]
  }
 ],
 "metadata": {
  "kernelspec": {
   "display_name": "Python 3",
   "language": "python",
   "name": "python3"
  },
  "language_info": {
   "codemirror_mode": {
    "name": "ipython",
    "version": 3
   },
   "file_extension": ".py",
   "mimetype": "text/x-python",
   "name": "python",
   "nbconvert_exporter": "python",
   "pygments_lexer": "ipython3",
   "version": "3.11.9"
  }
 },
 "nbformat": 4,
 "nbformat_minor": 2
}
