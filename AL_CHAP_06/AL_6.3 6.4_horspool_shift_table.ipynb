{
 "cells": [
  {
   "cell_type": "markdown",
   "metadata": {},
   "source": [
    "---\n",
    "# 문제정의\n",
    "#### shift_table으로 호스풀 알고리즘 사용"
   ]
  },
  {
   "cell_type": "markdown",
   "metadata": {},
   "source": [
    "---\n",
    "# 알고리즘 설명\n",
    "#### 하나의 위치(shift)에서 패턴은 뒤에서부터 앞으로 검사(맞으면 계속 앞으로 진행시킴)\n",
    "#### 텍스트 T와 패턴P로 정하고 T에서 P가 나타나는 위치를 찾아 반환하는 알고리즘\n",
    "#### 매칭 실패시 -1을 반환함"
   ]
  },
  {
   "cell_type": "markdown",
   "metadata": {},
   "source": [
    "---\n",
    "# 손으로 푼 예제\n",
    "![AL 6.03~4_horspool_shift_table](../image/AL6.03~4_horspool_shift_table_hand.jpg)"
   ]
  },
  {
   "cell_type": "markdown",
   "metadata": {},
   "source": [
    "---\n",
    "# 코드 개요\n",
    "#### tbl = [m]*NO_OF_CHARS 시프트 테이블\n",
    "#### for i in range(m-1):  패턴의 모든 문자에 대해\n",
    "#### tbl[ord(pat[i])] = m -1-i 그 알파벳이 패턴의 몇번째 문자인지 확인함\n",
    "#### t = shift_table(P) 시프트 테이블 생성\n",
    "#### if k == m:\n",
    "#### return i-m+1  매칭 성공: 매칭위치(왼쪽 반환)\n",
    "#### else:\n",
    "#### i += t[ord(T[i])]\n",
    "#### return -1 매칭실패시 -1을 반환"
   ]
  },
  {
   "cell_type": "markdown",
   "metadata": {},
   "source": [
    "---\n",
    "# 알고리즘 코드"
   ]
  },
  {
   "cell_type": "code",
   "execution_count": 26,
   "metadata": {},
   "outputs": [],
   "source": [
    "NO_OF_CHARS = 128\n",
    "def shift_table(pat):\n",
    "    m = len(pat)\n",
    "    tbl = [m]*NO_OF_CHARS\n",
    "\n",
    "    for i in range(m-1):\n",
    "        tbl[ord(pat[i])] = m -1-i\n",
    "\n",
    "    return tbl\n",
    "\n",
    "def search_horspool(T, P):\n",
    "    m = len(P)\n",
    "    n = len(T)\n",
    "    t = shift_table(P)\n",
    "    i = m - 1\n",
    "    while i <= n - 1:\n",
    "        k = 0\n",
    "        while k <= m - 1 and P[m - 1 - k] == T[i - k]:\n",
    "            k += 1\n",
    "        if k == m:\n",
    "            return i - m + 1\n",
    "        else:\n",
    "            i += t[ord(T[i])]\n",
    "    return -1"
   ]
  },
  {
   "cell_type": "markdown",
   "metadata": {},
   "source": [
    "---\n",
    "# 테스트 코드"
   ]
  },
  {
   "cell_type": "code",
   "execution_count": 27,
   "metadata": {},
   "outputs": [
    {
     "name": "stdout",
     "output_type": "stream",
     "text": [
      "패턴의 위치:  10\n"
     ]
    }
   ],
   "source": [
    "print(\"패턴의 위치: \", search_horspool(\"APPLEMANGOBANANAGRAPE\", \"BANANA\"))"
   ]
  },
  {
   "cell_type": "markdown",
   "metadata": {},
   "source": [
    "---\n",
    "# 수행결과\n",
    "![AL 6.03~4_horspool_shift_table](../image/AL6.03~4_horspool_shift_table_result.PNG)"
   ]
  },
  {
   "cell_type": "markdown",
   "metadata": {},
   "source": [
    "---\n",
    "# 복잡도 분석\n",
    "#### 최악의 경우 6행의 외부 루프는 n-m번 반복한다. 또한 최악의 경우 하나의 위치에서 패턴을 비교하는데 패턴의 길이(m)만큼의 비교가 필요하다. 따라서 최악의 경우 시간 복잡도는 O(nm)이다.\n",
    "\n",
    "#### 평균적인 경우는 무작위의 텍스트(random text)에 대해 O(n)의 성능을 나타낸다."
   ]
  },
  {
   "cell_type": "markdown",
   "metadata": {},
   "source": [
    "---\n",
    "# 조별 협력 내용\n",
    "\n",
    "#### 팀원들과 검수 밑 내용 정리 후 마무리 하였음"
   ]
  }
 ],
 "metadata": {
  "kernelspec": {
   "display_name": "Python 3",
   "language": "python",
   "name": "python3"
  },
  "language_info": {
   "codemirror_mode": {
    "name": "ipython",
    "version": 3
   },
   "file_extension": ".py",
   "mimetype": "text/x-python",
   "name": "python",
   "nbconvert_exporter": "python",
   "pygments_lexer": "ipython3",
   "version": "3.12.2"
  }
 },
 "nbformat": 4,
 "nbformat_minor": 2
}
