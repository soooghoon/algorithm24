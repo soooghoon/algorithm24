{
 "cells": [
  {
   "cell_type": "markdown",
   "metadata": {},
   "source": [
    "---\n",
    "# 문제정의\n",
    "### 해시 테이블에 삽입을 할 때 한번 충돌이 발생한 위치에서 연속적인 충돌이 집중되는 현상이 나타나는데 이 현상을 막고자 만든 알고리즘이다"
   ]
  },
  {
   "cell_type": "markdown",
   "metadata": {},
   "source": [
    "---\n",
    "# 알고리즘 설명\n",
    "### 해쉬테이블에 킷값을 하나씩 삽입하다가 주소가 겹친다면 킷값의 주소를 +1해주고 만약 뒤쪽으로 남는 버킷이 없다면 처음으로 돌아가는 알고리즘"
   ]
  },
  {
   "cell_type": "markdown",
   "metadata": {},
   "source": [
    "---\n",
    "# 손으로 푼 예제\n",
    "![handmade](../img/AL06-06/스크린샷%202024-05-23%20오후%201.53.52.png)\n"
   ]
  },
  {
   "cell_type": "markdown",
   "metadata": {},
   "source": [
    "---\n",
    "# 코드 개요\n",
    "### M은 테이블의 크기이다\n",
    "### 해싱함수: 주어진 key를 해시하여 테이블 인덱스를 계산한다\n",
    "### lp_insert: key를 해시하여 초기 인덱스를 계산하고 count는 탐색할 최대 횟수로, 테이블 크기 M으로 초기화\n",
    "### 만약 충돌이 발생하면 다음 인덱스를 탐색한다."
   ]
  },
  {
   "cell_type": "markdown",
   "metadata": {},
   "source": [
    "---\n",
    "# 알고리즘 코드"
   ]
  },
  {
   "cell_type": "code",
   "execution_count": 1,
   "metadata": {},
   "outputs": [],
   "source": [
    "M=13\n",
    "table = [None]* M\n",
    "def hashFn(key):\n",
    "    return key % M\n",
    "def lp_insert(key):\n",
    "    id = hashFn(key)\n",
    "    count = M\n",
    "    while count>0 and (table[id] != None and table[id] != -1):\n",
    "        id = (id + 1 + M)%M\n",
    "        count -= 1\n",
    "    if count > 0:\n",
    "        table[id] = key\n",
    "    return\n",
    "\n",
    "def lp_search(key):\n",
    "    id = hashFn(key)\n",
    "    count = M\n",
    "    while count > 0:\n",
    "        if table[id] == None:\n",
    "            return None\n",
    "        if table[id] != -1 and table[id] == key :\n",
    "            return table[id]\n",
    "        id = (id + 1 + M) % M\n",
    "        count -= 1\n",
    "    return None\n",
    "\n",
    "def lp_delete(key) :\n",
    "    id = hashFn(key) \n",
    "    count =M\n",
    "    while count > 0:\n",
    "        if table[id] == None : return\n",
    "        if table[id] != -1 and table[id] == key :\n",
    "            table[id] = -1\n",
    "            return\n",
    "        id = (id + 1 + M) % M\n",
    "        count -= 1"
   ]
  },
  {
   "cell_type": "markdown",
   "metadata": {},
   "source": [
    "---\n",
    "# 테스트 코드"
   ]
  },
  {
   "cell_type": "code",
   "execution_count": 2,
   "metadata": {},
   "outputs": [
    {
     "name": "stdout",
     "output_type": "stream",
     "text": [
      "최초: [None, None, None, None, None, None, None, None, None, None, None, None, None]\n",
      "45 삽입: [None, None, None, None, None, None, 45, None, None, None, None, None, None]\n",
      "27 삽입: [None, 27, None, None, None, None, 45, None, None, None, None, None, None]\n",
      "88 삽입: [None, 27, None, None, None, None, 45, None, None, None, 88, None, None]\n",
      " 9 삽입: [None, 27, None, None, None, None, 45, None, None, 9, 88, None, None]\n",
      "71 삽입: [None, 27, None, None, None, None, 45, 71, None, 9, 88, None, None]\n",
      "60 삽입: [None, 27, None, None, None, None, 45, 71, 60, 9, 88, None, None]\n",
      "46 삽입: [None, 27, None, None, None, None, 45, 71, 60, 9, 88, 46, None]\n",
      "38 삽입: [None, 27, None, None, None, None, 45, 71, 60, 9, 88, 46, 38]\n",
      "24 삽입: [24, 27, None, None, None, None, 45, 71, 60, 9, 88, 46, 38]\n",
      "60 삭제: [24, 27, None, None, None, None, 45, 71, -1, 9, 88, 46, 38]\n",
      "46 탐색: 46\n"
     ]
    }
   ],
   "source": [
    "print(\"최초:\", table)\n",
    "\n",
    "lp_insert(45); print(\"45 삽입:\", table)\n",
    "lp_insert(27); print(\"27 삽입:\", table)\n",
    "lp_insert(88); print(\"88 삽입:\", table)\n",
    "lp_insert(9); print(\" 9 삽입:\", table)\n",
    "lp_insert(71); print(\"71 삽입:\", table)\n",
    "lp_insert(60); print(\"60 삽입:\", table)\n",
    "lp_insert(46); print(\"46 삽입:\", table)\n",
    "lp_insert(38); print(\"38 삽입:\", table)\n",
    "lp_insert(24); print(\"24 삽입:\", table)\n",
    "lp_delete(60); print(\"60 삭제:\", table)\n",
    "\n",
    "print(\"46 탐색:\", lp_search(46))"
   ]
  },
  {
   "cell_type": "markdown",
   "metadata": {},
   "source": [
    "---\n",
    "# 수행결과\n",
    "![6-6result](../img/AL06-06/스크린샷%202024-05-23%20오후%201.31.53.png)"
   ]
  },
  {
   "cell_type": "markdown",
   "metadata": {},
   "source": [
    "---\n",
    "# 복잡도 분석\n",
    "### 해싱의 시간 복잡도는 O(1)이다. 그러나 이것은 충돌이 전혀 일어나지 않는 상황에서만 가능하다. 따라서 실제 해싱의 탐색 연산은 O(1)보다는 느리다.\n",
    "### 최선의 경우 O(1)이고 최악의 경우 O(n)이다."
   ]
  },
  {
   "cell_type": "markdown",
   "metadata": {},
   "source": [
    "---\n",
    "# 조별 협력 내용"
   ]
  }
 ],
 "metadata": {
  "kernelspec": {
   "display_name": "Python 3",
   "language": "python",
   "name": "python3"
  },
  "language_info": {
   "codemirror_mode": {
    "name": "ipython",
    "version": 3
   },
   "file_extension": ".py",
   "mimetype": "text/x-python",
   "name": "python",
   "nbconvert_exporter": "python",
   "pygments_lexer": "ipython3",
   "version": "3.11.2"
  }
 },
 "nbformat": 4,
 "nbformat_minor": 2
}
