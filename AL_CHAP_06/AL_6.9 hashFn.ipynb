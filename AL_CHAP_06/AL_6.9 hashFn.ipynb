{
 "cells": [
  {
   "cell_type": "markdown",
   "metadata": {},
   "source": [
    "---\n",
    "# 문제정의\n",
    "#### 선형 조사법에 필요한 해시함수를 만들어라"
   ]
  },
  {
   "cell_type": "markdown",
   "metadata": {},
   "source": [
    "---\n",
    "# 알고리즘 설명\n",
    "#### 좋은 해시 함수는 충돌이 적어야 하고, 주소가 해시 테이블에서 고르게 분포되어야 하며, 계산이 빨라야 한다."
   ]
  },
  {
   "cell_type": "markdown",
   "metadata": {},
   "source": [
    "---\n",
    "# 손으로 푼 예제\n",
    "![](../img/Chapter%2006/)"
   ]
  },
  {
   "cell_type": "markdown",
   "metadata": {},
   "source": [
    "---\n",
    "# 코드 개요\n",
    "#### 알고리즘코드에 주석으로 표시했습니다."
   ]
  },
  {
   "cell_type": "markdown",
   "metadata": {},
   "source": [
    "---\n",
    "# 알고리즘 코드"
   ]
  },
  {
   "cell_type": "code",
   "execution_count": 3,
   "metadata": {},
   "outputs": [],
   "source": [
    "M=13\n",
    "table = [None]* M\n",
    "def hashFn(key):\n",
    "    return key % M\n",
    "def lp_insert(key):\n",
    "    id = hashFn(key)\n",
    "    count = M\n",
    "    while count>0 and (table[id] != None and table[id] != -1):\n",
    "        id = (id + 1 + M)%M\n",
    "        count -= 1\n",
    "    if count > 0:\n",
    "        table[id] = key\n",
    "    return\n",
    "\n",
    "def lp_search(key):\n",
    "    id = hashFn(key)\n",
    "    count = M\n",
    "    while count > 0:\n",
    "        if table[id] == None:\n",
    "            return None\n",
    "        if table[id] != -1 and table[id] == key :\n",
    "            return table[id]\n",
    "        id = (id + 1 + M) % M\n",
    "        count -= 1\n",
    "    return None\n",
    "\n",
    "def lp_delete(key) :\n",
    "    id = hashFn(key) \n",
    "    count =M\n",
    "    while count > 0:\n",
    "        if table[id] == None : return\n",
    "        if table[id] != -1 and table[id] == key :\n",
    "            table[id] = -1\n",
    "            return\n",
    "        id = (id + 1 + M) % M\n",
    "        count -= 1\n",
    "# 6.9 hashFn\n",
    "def hashFn(key):\n",
    "    sum=0\n",
    "    for c in key:       # 문자열의 모든 문자에 대해\n",
    "        sum=sum+ord(c)  # 그 문자의 아스키 코드 값을 sum에 더함\n",
    "    return sum%M"
   ]
  },
  {
   "cell_type": "markdown",
   "metadata": {},
   "source": [
    "---\n",
    "# 테스트 코드"
   ]
  },
  {
   "cell_type": "code",
   "execution_count": 4,
   "metadata": {},
   "outputs": [
    {
     "name": "stdout",
     "output_type": "stream",
     "text": [
      "최초: [None, None, None, None, None, None, None, None, None, None, None, None, None]\n",
      "aaaa 삽입: [None, None, None, None, None, None, None, None, None, None, None, 'aaaa', None]\n",
      "adf 삽입: ['adf', None, None, None, None, None, None, None, None, None, None, 'aaaa', None]\n",
      "dqdf 삽입: ['adf', None, None, None, None, None, None, None, None, None, None, 'aaaa', 'dqdf']\n",
      "htwwthe 삽입: ['adf', 'htwwthe', None, None, None, None, None, None, None, None, None, 'aaaa', 'dqdf']\n",
      "gzas 삽입: ['adf', 'htwwthe', None, None, None, None, None, None, 'gzas', None, None, 'aaaa', 'dqdf']\n",
      "tqee 삽입: ['adf', 'htwwthe', 'tqee', None, None, None, None, None, 'gzas', None, None, 'aaaa', 'dqdf']\n",
      "oiut 삽입: ['adf', 'htwwthe', 'tqee', None, None, None, None, 'oiut', 'gzas', None, None, 'aaaa', 'dqdf']\n",
      "pahe 삽입: ['adf', 'htwwthe', 'tqee', 'pahe', None, None, None, 'oiut', 'gzas', None, None, 'aaaa', 'dqdf']\n",
      "zere 삽입: ['adf', 'htwwthe', 'tqee', 'pahe', None, None, None, 'oiut', 'gzas', 'zere', None, 'aaaa', 'dqdf']\n",
      "qiso 삭제: ['adf', 'htwwthe', 'tqee', 'pahe', None, None, None, 'oiut', 'gzas', 'zere', None, 'aaaa', 'dqdf']\n",
      "aaaa 탐색: aaaa\n"
     ]
    }
   ],
   "source": [
    "print(\"최초:\", table)\n",
    "\n",
    "lp_insert(\"aaaa\"); print(\"aaaa 삽입:\", table)\n",
    "lp_insert(\"adf\"); print(\"adf 삽입:\", table)\n",
    "lp_insert(\"dqdf\"); print(\"dqdf 삽입:\", table)\n",
    "lp_insert(\"htwwthe\"); print(\"htwwthe 삽입:\", table)\n",
    "lp_insert(\"gzas\"); print(\"gzas 삽입:\", table)\n",
    "lp_insert(\"tqee\"); print(\"tqee 삽입:\", table)\n",
    "lp_insert(\"oiut\"); print(\"oiut 삽입:\", table)\n",
    "lp_insert(\"pahe\"); print(\"pahe 삽입:\", table)\n",
    "lp_insert(\"zere\"); print(\"zere 삽입:\", table)\n",
    "lp_delete(\"qiso\"); print(\"qiso 삭제:\", table)\n",
    "\n",
    "print(\"aaaa 탐색:\", lp_search(\"aaaa\"))"
   ]
  },
  {
   "cell_type": "markdown",
   "metadata": {},
   "source": [
    "---\n",
    "# 수행결과\n",
    "![6.9 result](../img/img22.jpg)"
   ]
  },
  {
   "cell_type": "markdown",
   "metadata": {},
   "source": [
    "---\n",
    "# 복잡도 분석\n",
    "#### 충돌이 일어나지 않는 최선의 경우에는 O(1) 최악의 경우에는 O(n)이 나온다"
   ]
  },
  {
   "cell_type": "markdown",
   "metadata": {},
   "source": [
    "---\n",
    "# 조별 협력 내용\n",
    "#### 조원과 토의를 하며 문제를 풀었음"
   ]
  }
 ],
 "metadata": {
  "kernelspec": {
   "display_name": "Python 3",
   "language": "python",
   "name": "python3"
  },
  "language_info": {
   "codemirror_mode": {
    "name": "ipython",
    "version": 3
   },
   "file_extension": ".py",
   "mimetype": "text/x-python",
   "name": "python",
   "nbconvert_exporter": "python",
   "pygments_lexer": "ipython3",
   "version": "3.12.3"
  }
 },
 "nbformat": 4,
 "nbformat_minor": 2
}
