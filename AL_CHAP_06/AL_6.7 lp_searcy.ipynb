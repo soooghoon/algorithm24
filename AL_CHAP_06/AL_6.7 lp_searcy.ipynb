{
 "cells": [
  {
   "cell_type": "markdown",
   "metadata": {},
   "source": [
    "---\n",
    "# 문제정의\n",
    "#### 선형 조사법은 해시 함수로 계산된 버킷에 빈 슬롯이 없으면 그다음 버킷들을 순서적으로 조사하여 빈 슬롯이 있는지를찾는다 "
   ]
  },
  {
   "cell_type": "markdown",
   "metadata": {},
   "source": [
    "---\n",
    "# 알고리즘 설명\n",
    "#### 선택탐색은 탐색키가 입려고디면 해시주소를 계산하고 해당주소에 같은 키의 레코드가 있으면 탐색은 성공이다 삽입과같은 방벅으로 계속 버킷을 검사해야한다 해당 키의 레코드를 찾거나 레코드가 없는 버킷을 만나거나 모든 버킷을 다 검사할때까지 진행된다 "
   ]
  },
  {
   "cell_type": "markdown",
   "metadata": {},
   "source": [
    "---\n",
    "# 손으로 푼 예제"
   ]
  },
  {
   "cell_type": "markdown",
   "metadata": {},
   "source": [
    "---\n",
    "# 코드개요\n",
    "#### 주석 참고"
   ]
  },
  {
   "cell_type": "markdown",
   "metadata": {},
   "source": [
    "---\n",
    "# 알고리즘 코드"
   ]
  },
  {
   "cell_type": "code",
   "execution_count": 29,
   "metadata": {},
   "outputs": [],
   "source": [
    "M=13 #테이블의 크기 \n",
    "table = [None]* M #테이블 만들기: None으로 초기화 \n",
    "def hashFn(key): #해시함수 \n",
    "    return key % M\n",
    "def lp_insert(key):\n",
    "    id = hashFn(key)\n",
    "    count = M\n",
    "    while count>0 and (table[id] != None and table[id] != -1):\n",
    "        id = (id + 1 + M)%M #다음 위치로 이동 \n",
    "        count -= 1 #검사할 남은 위치의 수 \n",
    "    if count > 0:\n",
    "        table[id] = key #해당 슬롯에 항목저장 \n",
    "    return\n",
    "\n",
    "def lp_search(key):\n",
    "    id = hashFn(key)\n",
    "    count = M\n",
    "    while count > 0:\n",
    "        if table[id] == None: #찾는 항목이 테이블에 없음 \n",
    "            return None\n",
    "        if table[id] != -1 and table[id] == key :\n",
    "            return table[id] #찾는 항목이 테이블에 있음 \n",
    "        id = (id + 1 + M) % M #없으면 다음 위치 검사 \n",
    "        count -= 1\n",
    "    return None\n",
    "\n",
    "def lp_delete(key) :\n",
    "    id = hashFn(key) \n",
    "    count =M\n",
    "    while count > 0:\n",
    "        if table[id] == None : return\n",
    "        if table[id] != -1 and table[id] == key :\n",
    "            table[id] = -1\n",
    "            return\n",
    "        id = (id + 1 + M) % M\n",
    "        count -= 1"
   ]
  },
  {
   "cell_type": "markdown",
   "metadata": {},
   "source": [
    "---\n",
    "# 테스트코드"
   ]
  },
  {
   "cell_type": "code",
   "execution_count": 30,
   "metadata": {},
   "outputs": [
    {
     "name": "stdout",
     "output_type": "stream",
     "text": [
      "최초: [None, None, None, None, None, None, None, None, None, None, None, None, None]\n",
      "45 삽입: [None, None, None, None, None, None, 45, None, None, None, None, None, None]\n",
      "27 삽입: [None, 27, None, None, None, None, 45, None, None, None, None, None, None]\n",
      "88 삽입: [None, 27, None, None, None, None, 45, None, None, None, 88, None, None]\n",
      " 9 삽입: [None, 27, None, None, None, None, 45, None, None, 9, 88, None, None]\n",
      "71 삽입: [None, 27, None, None, None, None, 45, 71, None, 9, 88, None, None]\n",
      "60 삽입: [None, 27, None, None, None, None, 45, 71, 60, 9, 88, None, None]\n",
      "46 삽입: [None, 27, None, None, None, None, 45, 71, 60, 9, 88, 46, None]\n",
      "38 삽입: [None, 27, None, None, None, None, 45, 71, 60, 9, 88, 46, 38]\n",
      "24 삽입: [24, 27, None, None, None, None, 45, 71, 60, 9, 88, 46, 38]\n",
      "60 삭제: [24, 27, None, None, None, None, 45, 71, -1, 9, 88, 46, 38]\n",
      "46 탐색: 46\n"
     ]
    }
   ],
   "source": [
    "print(\"최초:\", table)\n",
    "\n",
    "lp_insert(45); print(\"45 삽입:\", table)\n",
    "lp_insert(27); print(\"27 삽입:\", table)\n",
    "lp_insert(88); print(\"88 삽입:\", table)\n",
    "lp_insert(9); print(\" 9 삽입:\", table)\n",
    "lp_insert(71); print(\"71 삽입:\", table)\n",
    "lp_insert(60); print(\"60 삽입:\", table)\n",
    "lp_insert(46); print(\"46 삽입:\", table)\n",
    "lp_insert(38); print(\"38 삽입:\", table)\n",
    "lp_insert(24); print(\"24 삽입:\", table)\n",
    "lp_delete(60); print(\"60 삭제:\", table)\n",
    "\n",
    "print(\"46 탐색:\", lp_search(46))"
   ]
  },
  {
   "cell_type": "markdown",
   "metadata": {},
   "source": [
    "---\n",
    "# 수행결과\n",
    "![6.7 result](../img/img20.jpg)"
   ]
  },
  {
   "cell_type": "markdown",
   "metadata": {},
   "source": [
    "---\n",
    "# 복잡도 분석\n",
    "#평균 시간 복잡도: O(1)\n",
    "#최악의 시간 복잡도: O(n)\n",
    "#공간 복잡도: O(n)"
   ]
  },
  {
   "cell_type": "markdown",
   "metadata": {},
   "source": [
    "---\n",
    "# 조별협력내용\n",
    "#### 팀원이랑  함께 협력하여 알고리즘을 풀었음 "
   ]
  }
 ],
 "metadata": {
  "kernelspec": {
   "display_name": "Python 3",
   "language": "python",
   "name": "python3"
  },
  "language_info": {
   "codemirror_mode": {
    "name": "ipython",
    "version": 3
   },
   "file_extension": ".py",
   "mimetype": "text/x-python",
   "name": "python",
   "nbconvert_exporter": "python",
   "pygments_lexer": "ipython3",
   "version": "3.11.9"
  }
 },
 "nbformat": 4,
 "nbformat_minor": 2
}
