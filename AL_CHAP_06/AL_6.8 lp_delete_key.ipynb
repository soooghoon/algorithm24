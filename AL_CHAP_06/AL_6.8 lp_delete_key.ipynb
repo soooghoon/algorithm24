{
 "cells": [
  {
   "cell_type": "markdown",
   "metadata": {},
   "source": [
    "---\n",
    "# 문제정의\n",
    "#### 선형 조사법에서 항목이 삭제되면 탐색이 불가능해질 수 있다. 예를들어 60을 먼저 삭제했고 46을 탐색하려고 할때 60이 있던 위치가 이제는 비어있기 때문에 46위치로 갈 수 없다. 이 문제를 해결하기 위해서는 빈 버킷을두 가지로 분류해야 한다. 즉 한번도 사용하지 않는 것과 사용되었다가 삭제되어 현재 비어있는 버킷으로 나누어야 한다."
   ]
  },
  {
   "cell_type": "markdown",
   "metadata": {},
   "source": [
    "---\n",
    "# 알고리즘 설명\n",
    "#### 선형 조사법의 삭제 알고리즘"
   ]
  },
  {
   "cell_type": "markdown",
   "metadata": {},
   "source": [
    "---\n",
    "# 손으로 푼 예제\n",
    "![AL 6.08_lp_delete_key](../image/AL6.08_lp_delete_key_hand.jpg)"
   ]
  },
  {
   "cell_type": "markdown",
   "metadata": {},
   "source": [
    "---\n",
    "# 코드 개요\n",
    "#### 세미콜론(;) : 한 줄에 여러 구문을 이어서 쓰고자 할때에는 세미콜론을 사용할 수 있는데, 주로 코드의 라인 수를 줄이기 위해 사용한다.\n",
    "#### def hashFn(key) : 해시 함수\n",
    "#### M = 13 : 테이블의 크기\n",
    "#### table = [None]*M : 테이블 만들기: None으로 초기화\n"
   ]
  },
  {
   "cell_type": "markdown",
   "metadata": {},
   "source": [
    "---\n",
    "# 알고리즘 코드"
   ]
  },
  {
   "cell_type": "code",
   "execution_count": 3,
   "metadata": {},
   "outputs": [],
   "source": [
    "M=13\n",
    "table = [None]* M\n",
    "def hashFn(key):\n",
    "    return key % M\n",
    "def lp_insert(key):\n",
    "    id = hashFn(key)\n",
    "    count = M\n",
    "    while count>0 and (table[id] != None and table[id] != -1):\n",
    "        id = (id + 1 + M)%M\n",
    "        count -= 1\n",
    "    if count > 0:\n",
    "        table[id] = key\n",
    "    return\n",
    "\n",
    "def lp_search(key):\n",
    "    id = hashFn(key)\n",
    "    count = M\n",
    "    while count > 0:\n",
    "        if table[id] == None:\n",
    "            return None\n",
    "        if table[id] != -1 and table[id] == key :\n",
    "            return table[id]\n",
    "        id = (id + 1 + M) % M\n",
    "        count -= 1\n",
    "    return None\n",
    "\n",
    "def lp_delete(key) :\n",
    "    id = hashFn(key) \n",
    "    count =M\n",
    "    while count > 0:\n",
    "        if table[id] == None : return\n",
    "        if table[id] != -1 and table[id] == key :\n",
    "            table[id] = -1\n",
    "            return\n",
    "        id = (id + 1 + M) % M\n",
    "        count -= 1"
   ]
  },
  {
   "cell_type": "markdown",
   "metadata": {},
   "source": [
    "---\n",
    "# 테스트 코드"
   ]
  },
  {
   "cell_type": "code",
   "execution_count": 4,
   "metadata": {},
   "outputs": [
    {
     "name": "stdout",
     "output_type": "stream",
     "text": [
      " 최초: [None, None, None, None, None, None, None, None, None, None, None, None, None]\n",
      "45삽입: [None, None, None, None, None, None, 45, None, None, None, None, None, None]\n",
      "27삽입: [None, 27, None, None, None, None, 45, None, None, None, None, None, None]\n",
      "88삽입: [None, 27, None, None, None, None, 45, None, None, None, 88, None, None]\n",
      "9삽입: [None, 27, None, None, None, None, 45, None, None, 9, 88, None, None]\n",
      "71삽입: [None, 27, None, None, None, None, 45, 71, None, 9, 88, None, None]\n",
      "60삽입: [None, 27, None, None, None, None, 45, 71, 60, 9, 88, None, None]\n",
      "46삽입: [None, 27, None, None, None, None, 45, 71, 60, 9, 88, 46, None]\n",
      "38삽입: [None, 27, None, None, None, None, 45, 71, 60, 9, 88, 46, 38]\n",
      "24삽입: [24, 27, None, None, None, None, 45, 71, 60, 9, 88, 46, 38]\n",
      "60삭제: [24, 27, None, None, None, None, 45, 71, -1, 9, 88, 46, 38]\n",
      "46탐색: 46\n"
     ]
    }
   ],
   "source": [
    "print(\" 최초:\", table)\n",
    "lp_insert(45); print(\"45삽입:\", table) \n",
    "lp_insert(27); print(\"27삽입:\", table) \n",
    "lp_insert(88); print(\"88삽입:\", table) \n",
    "lp_insert(9); print(\"9삽입:\", table) \n",
    "lp_insert(71); print(\"71삽입:\", table) \n",
    "lp_insert(60); print(\"60삽입:\", table) \n",
    "lp_insert(46); print(\"46삽입:\", table) \n",
    "lp_insert(38); print(\"38삽입:\", table) \n",
    "lp_insert(24); print(\"24삽입:\", table) \n",
    "lp_delete(60); print(\"60삭제:\", table)\n",
    "print(\"46탐색:\", lp_search(46)) "
   ]
  },
  {
   "cell_type": "markdown",
   "metadata": {},
   "source": [
    "---\n",
    "# 수행결과\n",
    "![AL 6.08_lp_delete_key](../image/AL6.08_lp_delete_key_result.PNG)"
   ]
  },
  {
   "cell_type": "markdown",
   "metadata": {},
   "source": [
    "---\n",
    "# 복잡도 분석\n",
    "#### 해싱의 시간 복잡도는 O(1)이지만 충돌이 전혀 일어나지 않는 상황에서만 가능하다. 따라서 실제 해싱의 탐색 연산은 O(1)보다 느리다. \n",
    "#### 해싱의 삭제 알고리즘은 최선의 경우 O(1)이고 최악의 경우는 O(n) 이다."
   ]
  },
  {
   "cell_type": "markdown",
   "metadata": {},
   "source": [
    "---\n",
    "# 조별 협력 내용\n",
    "#### 팀원들과 검수 밑 내용 정리 후 마무리 하였음"
   ]
  }
 ],
 "metadata": {
  "kernelspec": {
   "display_name": "Python 3",
   "language": "python",
   "name": "python3"
  },
  "language_info": {
   "codemirror_mode": {
    "name": "ipython",
    "version": 3
   },
   "file_extension": ".py",
   "mimetype": "text/x-python",
   "name": "python",
   "nbconvert_exporter": "python",
   "pygments_lexer": "ipython3",
   "version": "3.12.2"
  }
 },
 "nbformat": 4,
 "nbformat_minor": 2
}
