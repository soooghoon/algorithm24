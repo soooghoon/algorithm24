{
 "cells": [
  {
   "cell_type": "markdown",
   "metadata": {},
   "source": [
    "---\n",
    "# 문제정의\n",
    "#### 2차원 평면상에 n개의 점이 있고, 이 중 가장 인접한 쌍의 거리를 구한다.\n",
    "\n"
   ]
  },
  {
   "cell_type": "markdown",
   "metadata": {},
   "source": [
    "---\n",
    "# 알고리즘 설명\n",
    "#### 억지 기법을 사용하여 모든 쌍의 거리를 계산하고 가장 짧은 값을 반환하는 알고리즘이다."
   ]
  },
  {
   "cell_type": "markdown",
   "metadata": {},
   "source": [
    "---\n",
    "# 손으로 푼 예제\n",
    "![3 4 handmade](https://github.com/Karuperu/Algorithm24/assets/162394168/aee72f18-2013-4b6e-aba7-e9caa4b8f4a0)"
   ]
  },
  {
   "cell_type": "markdown",
   "metadata": {},
   "source": [
    "---\n",
    "# 코드 개요\n",
    "#### 입력 변수 (p): 점들의 리스트를 입력으로 받는다. 각 점은 2차원 좌표로 표현되며, p는 이러한 점들의 리스트다.\n",
    "#### 출력: 이 함수는 최근접 점 쌍의 거리와 해당 점들을 반환합니다. 반환 값은 다음과 같다:\n",
    "#### mindist : 최근접 점 쌍의 거리를 저장한다.\n",
    "#### minp1 :  최근접 점 쌍 중 첫 번째 점의 좌표다.\n",
    "#### minp2 : 최근접 점 쌍 중 두 번째 점의 좌표다.\n",
    "#### distance(p1, p2)는 두 점 p1과 p2 사이의 유클리드 거리를 계산하는 함수다.\n",
    "#### closest_pair(p)는 주어진 점들의 리스트 p에서 최근접 점 쌍을 찾는 함수다. \n",
    "#### 이중 반복문을 사용하여 모든 점 쌍의 거리를 계산하고 최소 거리를 계산후\n",
    "#### mindist, minp1, minp2에 각각 최소거리, 최근접 점 쌍 중 첫 번째 점(p[i]), 최근접 점 쌍 중 두 번째 점(p[j])을 반환한다."
   ]
  },
  {
   "cell_type": "markdown",
   "metadata": {},
   "source": [
    "---\n",
    "# 알고리즘 코드"
   ]
  },
  {
   "cell_type": "code",
   "execution_count": 7,
   "metadata": {},
   "outputs": [],
   "source": [
    "import math\n",
    "def distance(p1, p2):\n",
    "    return math.sqrt((p1[0]-p2[0])**2 + (p1[1]-p2[1])**2)\n",
    "\n",
    "def closest_pair(p):\n",
    "    minp1 = [0,0]\n",
    "    minp2 = [0,0]\n",
    "    n = len(p)\n",
    "    mindist = float(\"inf\")\n",
    "    for i in range(n-1):\n",
    "        for j in range(i+1, n):\n",
    "            dist = distance(p[i], p[j])\n",
    "            if dist < mindist:\n",
    "                mindist = dist\n",
    "                minp1 = p[i]\n",
    "                minp2 = p[j]\n",
    "    return mindist, minp1, minp2"
   ]
  },
  {
   "cell_type": "markdown",
   "metadata": {},
   "source": [
    "---\n",
    "# 테스트 코드"
   ]
  },
  {
   "cell_type": "code",
   "execution_count": null,
   "metadata": {},
   "outputs": [],
   "source": [
    "p = [(2,3), (12,30), (40,50), (5,1), (12,10), (3,4)]\n",
    "mindist, minp1, minp2 = closest_pair(p)\n",
    "print(\"최근접 거리 :\", mindist)\n",
    "print(\"p1의 값 :\", minp1)\n",
    "print(\"p2의 값 :\", minp2)"
   ]
  },
  {
   "cell_type": "markdown",
   "metadata": {},
   "source": [
    "---\n",
    "# 수행 결과\n",
    "![3 4 result](https://github.com/Karuperu/Algorithm24/assets/162394168/fbfb6a22-5c51-46f6-9e20-7ea439c4abfc)"
   ]
  },
  {
   "cell_type": "markdown",
   "metadata": {},
   "source": [
    "---\n",
    "# 복잡도 분석\n",
    "#### 입력의 크기는 전체 점의 수 n이고, 기본 연산은 유클리드 거리 계산 문장이 좋을 것이다.\n",
    "#### 그리고 이 알고리즘의 효율은 구성과 관련없이 최선, 평균, 최악의 경우가 항상 동일하다.\n",
    "#### 아래의 수식은 복잡도 함수이다.\n",
    "$$T(n) =  \\sum_{i=0}^{n-2} \\sum_{j=i+1}^{n-1} 1\\\\\n",
    "= \\sum_{i=0}^{n-2}[(n-1)-(i+1)+1] = \\sum_{i=0}^{n-2} (n-i-1)\\\\\n",
    "= (n-1)+(n-2)+...+2+1\\\\\n",
    "=\\frac{n(n-1)}{2}\\in O(n^2)$$"
   ]
  },
  {
   "cell_type": "markdown",
   "metadata": {},
   "source": [
    "---\n",
    "# 조별 협력 내용\n",
    "#### 복잡도 분석의 코드를 함께 협력해서 수식으로 작성을 했습니다.\n",
    "---"
   ]
  }
 ],
 "metadata": {
  "kernelspec": {
   "display_name": "Python 3",
   "language": "python",
   "name": "python3"
  },
  "language_info": {
   "codemirror_mode": {
    "name": "ipython",
    "version": 3
   },
   "file_extension": ".py",
   "mimetype": "text/x-python",
   "name": "python",
   "nbconvert_exporter": "python",
   "pygments_lexer": "ipython3",
   "version": "3.12.2"
  }
 },
 "nbformat": 4,
 "nbformat_minor": 2
}
