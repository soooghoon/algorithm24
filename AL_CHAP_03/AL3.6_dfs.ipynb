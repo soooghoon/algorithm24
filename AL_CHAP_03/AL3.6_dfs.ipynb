{
 "cells": [
  {
   "cell_type": "markdown",
   "metadata": {},
   "source": [
    "---\n",
    "# 문제정의\n",
    "#### DFS는 그래프를 깊이 방향으로 탐색하며 스택을 사용하여 다음에 방문할 정점을 기억한다\n"
   ]
  },
  {
   "cell_type": "markdown",
   "metadata": {},
   "source": [
    "---\n",
    "# 알고리즘 설명\n",
    "#### 시작 노드에서부터 가능한 한 깊게 탐색하고, 더 이상 진행할 수 없을 때 다시 돌아와 다른 경로를 탐색하는 알고리즘이다.\n"
   ]
  },
  {
   "cell_type": "markdown",
   "metadata": {},
   "source": [
    "---\n",
    "# 손으로 푼 예제\n",
    "![3 6 handmade](https://github.com/Karuperu/Algorithm24/assets/162394168/8d8db310-8234-4bb9-8f0f-b131286424b6)"
   ]
  },
  {
   "cell_type": "markdown",
   "metadata": {},
   "source": [
    "---\n",
    "# 코드 개요\n",
    "## 입력 변수\n",
    "#### graph: 이는 노드들의 집합으로 이루어져있다. 각 노드는 이웃 노드들의 집합으로 표현된다.\n",
    "#### start: 이는 탐색을 시작할 노드다.\n",
    "#### visited: 이는 방문한 노드들의 집합이다.\n",
    "## 출력\n",
    "#### 이 함수는 start에서 시작하여 graph에 있는 모든 노드를 깊이 우선 탐색으로 방문하고, 방문한 노드를 출력한다.\n",
    "## 알고리즘 개요\n",
    "#### start 노드가 방문한 노드 집합에 포함되어 있지 않으면, start 노드를 방문한 노드 집합에 추가하고, start 노드를 출력한다.\n",
    "#### start 노드의 이웃 노드들 중 아직 방문하지 않은 노드들을 찾는다.\n",
    "#### 각각의 아직 방문하지 않은 이웃 노드에 대해, 그 노드를 start 노드로 하여 깊이 우선 탐색을 수행하여 결과값을 출력한다."
   ]
  },
  {
   "cell_type": "markdown",
   "metadata": {},
   "source": [
    "---\n",
    "# 알고리즘 코드"
   ]
  },
  {
   "cell_type": "code",
   "execution_count": 2,
   "metadata": {},
   "outputs": [],
   "source": [
    "def dfs(graph, start, visited):\n",
    "    if start not in visited:\n",
    "        visited.add(start)\n",
    "        print(start, end=' ')\n",
    "        nbr = graph[start] - visited\n",
    "        for v in nbr:\n",
    "            dfs(graph, v, visited)"
   ]
  },
  {
   "cell_type": "markdown",
   "metadata": {},
   "source": [
    "---\n",
    "# 테스트 코드"
   ]
  },
  {
   "cell_type": "code",
   "execution_count": null,
   "metadata": {},
   "outputs": [],
   "source": [
    "mygraph = {\n",
    "    \"A\" : {\"B\",\"C\"},\n",
    "    \"B\" : {\"A\",\"D\"},\n",
    "    \"C\" : {\"A\",\"D\",\"E\"},\n",
    "    \"D\" : {\"B\",\"C\",\"F\"},\n",
    "    \"E\" : {\"C\",\"G\",\"H\"},\n",
    "    \"F\" : {\"D\"},\n",
    "    \"G\" : {\"E\",\"H\"},\n",
    "    \"H\" : {\"E\",\"G\"}\n",
    "}\n",
    "print(\"DFS : \",end='')\n",
    "dfs( mygraph, \"A\", set() )\n",
    "print()"
   ]
  },
  {
   "cell_type": "markdown",
   "metadata": {},
   "source": [
    "---\n",
    "# 수행 결과\n",
    "#### 환경에 따라 결과값은 조금씩 달라지지만 시작점인 A는 항상 1번째로 출력됨.\n",
    "![3 6 result](https://github.com/Karuperu/Algorithm24/assets/162394168/c7d48ce6-bd23-4e3a-a6ff-7de869412c67)"
   ]
  },
  {
   "cell_type": "markdown",
   "metadata": {},
   "source": [
    "---\n",
    "# 복잡도 분석\n",
    "#### 깊이 우선 탐색은 그래프의 모든 간선을 조사하므로 정점의 수가 n이고 간선의 수가 e인 그래프를\n",
    "#### 깊이 우선 탐색을 하는 시간은 그래프가 인접 리스트로 표현되어 있다면 O(n+e)이다."
   ]
  },
  {
   "cell_type": "markdown",
   "metadata": {},
   "source": [
    "---\n",
    "# 조별 협력 내용\n",
    "#### 팀원들과 코드 알고리즘 개요를 작성했습니다.\n",
    "---"
   ]
  }
 ],
 "metadata": {
  "kernelspec": {
   "display_name": "Python 3",
   "language": "python",
   "name": "python3"
  },
  "language_info": {
   "codemirror_mode": {
    "name": "ipython",
    "version": 3
   },
   "file_extension": ".py",
   "mimetype": "text/x-python",
   "name": "python",
   "nbconvert_exporter": "python",
   "pygments_lexer": "ipython3",
   "version": "3.12.2"
  }
 },
 "nbformat": 4,
 "nbformat_minor": 2
}
