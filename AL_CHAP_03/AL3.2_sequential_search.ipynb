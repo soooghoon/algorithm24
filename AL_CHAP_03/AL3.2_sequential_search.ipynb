{
 "cells": [
  {
   "cell_type": "markdown",
   "metadata": {},
   "source": [
    "# 문제정의\n",
    "### 특히 정렬되지 않은 리스트에서도 원하는 항목을 찾을 수 있는 방법으로 주로 입력 리스트의 첫항목부터 순서대로 하나씩 탐색기와 비교한다"
   ]
  },
  {
   "cell_type": "markdown",
   "metadata": {},
   "source": [
    "---\n",
    "# 알고리즘 설명\n",
    "### 각 항목의 인덱스를 키와 비교하여 맞으면 i를 반환 틀리면 -1을 반환하는 알고리즘"
   ]
  },
  {
   "cell_type": "markdown",
   "metadata": {},
   "source": [
    "---\n",
    "### 손으로 푼 예제:\n",
    "![3 2 handmade](https://github.com/chani890/algorithm24/assets/162394168/3b3ef551-7f5e-49d8-8e24-20993a90cb15)"
   ]
  },
  {
   "cell_type": "markdown",
   "metadata": {},
   "source": [
    "---\n",
    "# 알고리즘 개요\n",
    "#### 주석 참고"
   ]
  },
  {
   "cell_type": "markdown",
   "metadata": {},
   "source": [
    "---\n",
    "# 알고리즘 코드"
   ]
  },
  {
   "cell_type": "code",
   "execution_count": null,
   "metadata": {},
   "outputs": [],
   "source": [
    "def sequential_search(A, key): ## A는 입력 리스트, key는 탐색키\n",
    "    for i in range(len(A)): ## i : 0,1,...len(A)-1\n",
    "        if A[i] == key: ##탐색 성공하면 (비교연산, 기본연산임)\n",
    "            return i ## 인덱스 반환\n",
    "    return -1 ## 탐색에 실패하면 -1 반환"
   ]
  },
  {
   "cell_type": "markdown",
   "metadata": {},
   "source": [
    "---\n",
    "# 테스트 코드"
   ]
  },
  {
   "cell_type": "code",
   "execution_count": 2,
   "metadata": {},
   "outputs": [
    {
     "name": "stdout",
     "output_type": "stream",
     "text": [
      "4 값은 리스트의 인덱스 3 에 위치함\n"
     ]
    }
   ],
   "source": [
    "data = [5, 3, 8, 4, 9, 1, 6, 2, 7] # 리스트 \n",
    "key = int(input(\"key 입력: \")) ## key값 입력\n",
    "result = sequential_search(data, key) ## 반환된 값을 result값에 저장\n",
    "\n",
    "if result != -1: ## 인덱스가 존재할때\n",
    "    print(f\"{key} 값은 리스트의 인덱스 {result} 에 위치함\")\n",
    "else: ## key값이 리스트에 없을 때\n",
    "    print(f\"{key} 는 리스트에 없음\")"
   ]
  },
  {
   "cell_type": "markdown",
   "metadata": {},
   "source": [
    "---\n",
    "# 수행 결과 \n",
    "![3 2 result](https://github.com/chani890/algorithm24/assets/162394168/f8237989-ef0a-4d0c-9418-6f8f0c7edfaa)"
   ]
  },
  {
   "cell_type": "markdown",
   "metadata": {},
   "source": [
    "---\n",
    "# 복잡도 분석 : \n",
    "$$T(n)= \\frac{1}{n+1}(1+2+...+n)\\\\\n",
    " =\\frac{1}{n+1}(\\frac{n(n+1)}{2}+n)\\\\\n",
    " =\\frac{n}{2}+\\frac{n}{n+1}\\in O(n)$$"
   ]
  },
  {
   "cell_type": "markdown",
   "metadata": {},
   "source": [
    "---\n",
    "# 조별 협력 내용\n",
    "#### 팀원들과 의견을 나누며 위 내용을 작성했습니다.\n",
    "---"
   ]
  }
 ],
 "metadata": {
  "kernelspec": {
   "display_name": "Python 3",
   "language": "python",
   "name": "python3"
  },
  "language_info": {
   "codemirror_mode": {
    "name": "ipython",
    "version": 3
   },
   "file_extension": ".py",
   "mimetype": "text/x-python",
   "name": "python",
   "nbconvert_exporter": "python",
   "pygments_lexer": "ipython3",
   "version": "3.11.2"
  },
  "orig_nbformat": 4
 },
 "nbformat": 4,
 "nbformat_minor": 2
}
