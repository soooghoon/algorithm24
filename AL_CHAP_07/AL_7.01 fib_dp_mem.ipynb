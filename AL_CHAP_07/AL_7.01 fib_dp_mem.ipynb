{
 "cells": [
  {
   "cell_type": "markdown",
   "metadata": {},
   "source": [
    "---\n",
    "# 문제정의\n",
    "#### 메모이제이션을 이용한 피보나치수열"
   ]
  },
  {
   "cell_type": "markdown",
   "metadata": {},
   "source": [
    "---\n",
    "# 알고리즘 설명\n",
    "#### 메모이제이션은 함수의 결과를 저장할 메모리 공간을 준비해 두고, 한번 계산한 값을 저장해 두었다가 재활용하는 기법인데 이것은 분할 정복으로 구현한 방법과 같이 하향식으로 문제를 해결한다. 그리고 한번 풀린 문제는 답을 메모리에 저장해 두었다가 재활용하는 전략을 사용한다."
   ]
  },
  {
   "cell_type": "markdown",
   "metadata": {},
   "source": [
    "---\n",
    "# 손으로 푼 예제\n",
    "![AL 7.01_fib_dp_mem](../image/AL7.01_fib_dp_mem_hand.jpg)"
   ]
  },
  {
   "cell_type": "markdown",
   "metadata": {},
   "source": [
    "---\n",
    "# 코드 개요\n",
    "#### if (mem[n] == None) : 아직 풀리지 않은 문제인지 검사 그 경우에는 풀어서 결과를 저장한다.\n",
    "#### return mem[n] :이 경우는 이미 풀린 경우나 이전 행을 통해 푼 경우 모두 결과를 mem[n]에 저장해야 하고 이를 반환한다."
   ]
  },
  {
   "cell_type": "markdown",
   "metadata": {},
   "source": [
    "---\n",
    "# 알고리즘 코드"
   ]
  },
  {
   "cell_type": "code",
   "execution_count": 1,
   "metadata": {},
   "outputs": [],
   "source": [
    "def fib_dp_mem(n) :\n",
    "    if (mem[n] == None) :\n",
    "        if n < 2:\n",
    "            mem[n] = n\n",
    "        else:\n",
    "            mem[n] = fib_dp_mem(n-1) + fib_dp_mem(n-2)\n",
    "    return mem[n]"
   ]
  },
  {
   "cell_type": "markdown",
   "metadata": {},
   "source": [
    "---\n",
    "# 테스트 코드"
   ]
  },
  {
   "cell_type": "code",
   "execution_count": 6,
   "metadata": {},
   "outputs": [
    {
     "name": "stdout",
     "output_type": "stream",
     "text": [
      "동적계획(메모이제이션): Fibonacci(8) =  21\n"
     ]
    }
   ],
   "source": [
    "mem = [None] * (n+1)\n",
    "print('동적계획(메모이제이션): Fibonacci(%d) = '%n, fib_dp_mem(n))"
   ]
  },
  {
   "cell_type": "markdown",
   "metadata": {},
   "source": [
    "---\n",
    "# 수행결과\n",
    "![AL 7.01_fib_dp_mem](../image/AL7.01_fib_dp_mem_result.PNG)"
   ]
  },
  {
   "cell_type": "markdown",
   "metadata": {},
   "source": [
    "---\n",
    "# 복잡도 분석\n",
    "#### 메모이제이션을 이용한 피보나치수열 알고리즘은 모두 시간 복잡도가 O(n)이다. 하지만 단점으로는 추가적인 메모리가 필요하여 O(n)의 추가적인 메모리 공간이 필요하다"
   ]
  },
  {
   "cell_type": "markdown",
   "metadata": {},
   "source": [
    "---\n",
    "# 조별 협력 내용\n",
    "#### 팀원들과 검수 밑 내용 정리 후 마무리 하였음"
   ]
  }
 ],
 "metadata": {
  "kernelspec": {
   "display_name": "Python 3",
   "language": "python",
   "name": "python3"
  },
  "language_info": {
   "codemirror_mode": {
    "name": "ipython",
    "version": 3
   },
   "file_extension": ".py",
   "mimetype": "text/x-python",
   "name": "python",
   "nbconvert_exporter": "python",
   "pygments_lexer": "ipython3",
   "version": "3.12.2"
  }
 },
 "nbformat": 4,
 "nbformat_minor": 2
}
