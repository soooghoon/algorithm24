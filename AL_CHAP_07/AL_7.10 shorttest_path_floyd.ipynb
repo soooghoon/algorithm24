{
 "cells": [
  {
   "cell_type": "markdown",
   "metadata": {},
   "source": [
    "---\n",
    "# 문제정의\n",
    "#### 가중치 그래프가 주어졋을떄 그래프의 모든 정점 사이의 최단 경로의 길이를 구하라 이떄 경로의 길이는 그 경로에 포함된 간선들의 가중치 합이고 간선의 가중치로 음수는 허용하지 않는다 "
   ]
  },
  {
   "cell_type": "markdown",
   "metadata": {},
   "source": [
    "---\n",
    "# 알고리즘 설명\n",
    "#### 플로이드-워셜 알고리즘(Floyd-Warshall Algorithm)은 모든 정점 쌍 간의 최단 경로를 찾는 알고리즘이다 이 알고리즘은 그래프의 모든 정점에 대해 최단 경로를 계산하며, 동적 계획법(Dynamic Programming)을 사용한다 주어진 코드에서는 플로이드-워셜 알고리즘을 이용하여 그래프의 최단 경로 행렬을 계산한다 초기화 단계 주어진 가중치 행렬 w를 복사하여 d행렬을 만든다 이때 깊은 복사를 사용햐여 D가 W의 변경에 영향을 받지 않도록 한다 반복단계 외부루트는 경유하는 정점K를 설정한다 중간루프는 출발 정점 i를 설정한다 내부 루프 도착 정점 j를 설정한다 \n"
   ]
  },
  {
   "cell_type": "markdown",
   "metadata": {},
   "source": [
    "---\n",
    "# 손으로 푼 예제\n",
    "###"
   ]
  },
  {
   "cell_type": "markdown",
   "metadata": {},
   "source": [
    "---\n",
    "# 코드개요\n",
    "#### 주석 참고"
   ]
  },
  {
   "cell_type": "markdown",
   "metadata": {},
   "source": [
    "---\n",
    "# 알고리즘 코드"
   ]
  },
  {
   "cell_type": "code",
   "execution_count": 16,
   "metadata": {},
   "outputs": [],
   "source": [
    "import copy  # 리스트의 깊은 복사를 위해 copy 모듈을 포함\n",
    "\n",
    "def shortest_path_floyd(vertex, W):  #Floyd의 최단경로 탐색함수 \n",
    "    vsize = len(vertex)  # 정점의 개수\n",
    "    D = copy.deepcopy(W)  # 깊은 복사\n",
    "\n",
    "    for k in range(vsize):  # 정점 k를 추가할 때\n",
    "        for i in range(vsize):\n",
    "            for j in range(vsize):  # 모든 D[i][j] 갱신\n",
    "                if (D[i][k] + D[k][j] < D[i][j]):\n",
    "                    D[i][j] = D[i][k] + D[k][j]\n",
    "\n",
    "    printD(D)  # 현재 D 행렬 출력\n"
   ]
  },
  {
   "cell_type": "markdown",
   "metadata": {},
   "source": [
    "---\n",
    "# 테스트코드"
   ]
  },
  {
   "cell_type": "code",
   "execution_count": 17,
   "metadata": {},
   "outputs": [
    {
     "name": "stdout",
     "output_type": "stream",
     "text": [
      "Shortest Path By Floyd's Algorithm\n",
      "======================================\n",
      "   0   5   9  11   3  10   8\n",
      "   5   0   4   6   2   6   7\n",
      "   9   4   0   2   6  10   6\n",
      "  11   6   2   0   8   9   4\n",
      "   3   2   6   8   0   8   5\n",
      "  10   6  10   9   8   0  13\n",
      "   8   7   6   4   5  13   0\n",
      "======================================\n"
     ]
    }
   ],
   "source": [
    "def printD(D):\n",
    "    # 현재의 최단거리 행렬 D를 화면에 출력하는 함수\n",
    "    vsize = len(D)\n",
    "    print(\"======================================\")\n",
    "    for i in range(vsize):\n",
    "        for j in range(vsize):\n",
    "            if D[i][j] == INF:\n",
    "                print(\" INF \", end='')\n",
    "            else:\n",
    "                print(\"%4d\" % D[i][j], end='')\n",
    "        print()\n",
    "    print(\"======================================\")\n",
    "\n",
    "INF = 9999\n",
    "vertex = ['A', 'B', 'C', 'D', 'E', 'F', 'G']\n",
    "weight = [\n",
    "    [0, 7, INF, INF, 3, 10, INF],\n",
    "    [7, 0, 4, 10, 2, 6, INF],\n",
    "    [INF, 4, 0, 2, INF, INF, INF],\n",
    "    [INF, 10, 2, 0, 11, 9, 4],\n",
    "    [3, 2, INF, 11, 0, 13, 5],\n",
    "    [10, 6, INF, 9, 13, 0, INF],\n",
    "    [INF, INF, INF, 4, 5, INF, 0]\n",
    "]\n",
    "\n",
    "print(\"Shortest Path By Floyd's Algorithm\")\n",
    "shortest_path_floyd(vertex, weight)"
   ]
  },
  {
   "cell_type": "markdown",
   "metadata": {},
   "source": [
    "---\n",
    "# 수행결과\n",
    "![7.10 result](../img/img27.jpg)"
   ]
  },
  {
   "cell_type": "markdown",
   "metadata": {},
   "source": [
    "---\n",
    "# 복잡도 분석\n",
    "\n",
    "#### 시간복잡도 o(n³) 추가적인 메모리D를 위한 공간 복잡도는 O(n²)"
   ]
  },
  {
   "cell_type": "markdown",
   "metadata": {},
   "source": [
    "---\n",
    "# 조별협력내용\n",
    "#### 팀원이랑  함께 협력하여 알고리즘을 풀었음 "
   ]
  }
 ],
 "metadata": {
  "kernelspec": {
   "display_name": "Python 3",
   "language": "python",
   "name": "python3"
  },
  "language_info": {
   "codemirror_mode": {
    "name": "ipython",
    "version": 3
   },
   "file_extension": ".py",
   "mimetype": "text/x-python",
   "name": "python",
   "nbconvert_exporter": "python",
   "pygments_lexer": "ipython3",
   "version": "3.11.9"
  }
 },
 "nbformat": 4,
 "nbformat_minor": 2
}
