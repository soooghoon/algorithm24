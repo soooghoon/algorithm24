{
 "cells": [
  {
   "cell_type": "markdown",
   "metadata": {},
   "source": [
    "---\n",
    "# 문제정의\n",
    "#### 테이블화를 이용한 피보나치수열"
   ]
  },
  {
   "cell_type": "markdown",
   "metadata": {},
   "source": [
    "---\n",
    "# 알고리즘 설명\n",
    "#### 테이블화는 부분 문제의 해를 메모리에 저장한다는것은 동일하지만, 메모리의 항목들을 순서적으로 채워나가는 것에 초점을 맞춘것이며 상햑식으로 문제를 해결한다."
   ]
  },
  {
   "cell_type": "markdown",
   "metadata": {},
   "source": [
    "---\n",
    "# 손으로 푼 예제\n",
    "![AL 7.02_fib_dp_tab](../image/AL7.02_fib_dp_tab_hand.jpg)"
   ]
  },
  {
   "cell_type": "markdown",
   "metadata": {},
   "source": [
    "---\n",
    "# 코드 개요\n",
    "#### f = [None] * (n+1) : 테이블 만들기\n",
    "#### f[0] = 0, f[1] = 1 기반 상활 처리\n",
    "#### for i in range(2, n+1): 상향식으로 처리\n",
    "#### f[i] = f[i-1] + f[i-2] 부분 문제들을 해결하고 저장함\n",
    "#### return f[n] 결과를 반환"
   ]
  },
  {
   "cell_type": "markdown",
   "metadata": {},
   "source": [
    "---\n",
    "# 알고리즘 코드"
   ]
  },
  {
   "cell_type": "code",
   "execution_count": 4,
   "metadata": {},
   "outputs": [],
   "source": [
    "def fib_dp_tab(n) :\n",
    "    f = [None] * (n+1)\n",
    "    f[0] = 0\n",
    "    f[1] = 1\n",
    "    for i in range(2, n+1):\n",
    "        f[i] = f[i-1] + f[i-2]\n",
    "    return f[n]"
   ]
  },
  {
   "cell_type": "markdown",
   "metadata": {},
   "source": [
    "---\n",
    "# 테스트 코드"
   ]
  },
  {
   "cell_type": "code",
   "execution_count": 5,
   "metadata": {},
   "outputs": [
    {
     "name": "stdout",
     "output_type": "stream",
     "text": [
      "동적계획( 테이블화 ): Fibonacci(8) = 21\n"
     ]
    }
   ],
   "source": [
    "n = 8\n",
    "print('동적계획( 테이블화 ): Fibonacci(%d) ='%n, fib_dp_tab(n))"
   ]
  },
  {
   "cell_type": "markdown",
   "metadata": {},
   "source": [
    "---\n",
    "# 수행결과\n",
    "![AL 7.02_fib_dp_tab](../image/AL7.02_fib_dp_tab_result.PNG)"
   ]
  },
  {
   "cell_type": "markdown",
   "metadata": {},
   "source": [
    "---\n",
    "# 복잡도 분석\n",
    "#### 메모이제이션과 같이 시간복잡도는 O(n)이다 단점도 메모이제이션과 같이 O(n)의 추가적인 메모리가 필요하다."
   ]
  },
  {
   "cell_type": "markdown",
   "metadata": {},
   "source": [
    "---\n",
    "# 조별 협력 내용\n",
    "#### 조원과 토의를 하며 문제를 풀었음"
   ]
  },
  {
   "cell_type": "markdown",
   "metadata": {},
   "source": []
  }
 ],
 "metadata": {
  "kernelspec": {
   "display_name": "Python 3",
   "language": "python",
   "name": "python3"
  },
  "language_info": {
   "codemirror_mode": {
    "name": "ipython",
    "version": 3
   },
   "file_extension": ".py",
   "mimetype": "text/x-python",
   "name": "python",
   "nbconvert_exporter": "python",
   "pygments_lexer": "ipython3",
   "version": "3.12.2"
  }
 },
 "nbformat": 4,
 "nbformat_minor": 2
}
