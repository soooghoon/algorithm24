{
 "cells": [
  {
   "cell_type": "markdown",
   "metadata": {},
   "source": [
    "---\n",
    "# 문제정의\n",
    "#### 가중치 그래프 G(v,E)가 주어졌다 G의 모든 신장트리 중에서 간선들의 가중치 합이 최소인 신장트리를 찾아라 이러한 트리를 최소한 비용 신장트리라고 한다 "
   ]
  },
  {
   "cell_type": "markdown",
   "metadata": {},
   "source": [
    "---\n",
    "# 알고리즘 설명\n",
    "#### 시작 정점은 임의로 선택할 수 있으므로 a를 선택하자 맨처음에 dist[0]=0이고 나머지 모든 정점의 dist값은 inf로 초기화한다 dist에서 최소정점은 a이고 따라서 a를 mst에 넣는다 이제 dist값을 갱신해야 한다 "
   ]
  },
  {
   "cell_type": "markdown",
   "metadata": {},
   "source": [
    "---\n",
    "# 손으로 푼 예제\n",
    "![8.5 result](../img/img36.jpg)"
   ]
  },
  {
   "cell_type": "markdown",
   "metadata": {},
   "source": [
    "---\n",
    "# 코드개요\n",
    "#### 주석 참고"
   ]
  },
  {
   "cell_type": "markdown",
   "metadata": {},
   "source": [
    "---\n",
    "# 알고리즘 코드"
   ]
  },
  {
   "cell_type": "code",
   "execution_count": 25,
   "metadata": {},
   "outputs": [],
   "source": [
    "def getMinVertex(dist, selected):\n",
    "    minv = -1\n",
    "    mindist = float('inf')\n",
    "    for v in range(len(dist)):  # 모든 정점들에 대해\n",
    "        if not selected[v] and dist[v] < mindist:  # 선택 안 되었고 가중치가 작으면\n",
    "            mindist = dist[v]\n",
    "            minv = v  # minv 갱신\n",
    "    return minv  # 최소 가중치의 정점 반환\n",
    "\n",
    "def MSTPrim(vertex, adj):\n",
    "    vsize = len(vertex)\n",
    "    dist = [float('inf')] * vsize  # dist: [0, INF, ... INF]\n",
    "    dist[0] = 0\n",
    "    selected = [False] * vsize  # selected: [False, False, ... False]\n",
    "\n",
    "    for i in range(vsize):  # 정점의 수 만큼 반복\n",
    "        u = getMinVertex(dist, selected)  # dist가 최소인 정점 u 찾기\n",
    "        selected[u] = True  # u는 이제 선택됨\n",
    "        print(vertex[u], end=':') # u를 출력\n",
    "        print(dist)  # dist를 출력\n",
    "\n",
    "        for v in range(vsize):  # 내부 루프\n",
    "            if adj[u][v] is not None:  # (u,v) 간선이 있으면\n",
    "                if not selected[v] and adj[u][v] < dist[v]:\n",
    "                    dist[v] = adj[u][v]  # dist[v] 갱신"
   ]
  },
  {
   "cell_type": "markdown",
   "metadata": {},
   "source": [
    "---\n",
    "# 테스트코드"
   ]
  },
  {
   "cell_type": "code",
   "execution_count": 26,
   "metadata": {},
   "outputs": [
    {
     "name": "stdout",
     "output_type": "stream",
     "text": [
      "MST By Prim's Algorithm\n",
      "A:[0, inf, inf, inf, inf, inf, inf]\n",
      "F:[0, 29, inf, inf, inf, 10, inf]\n",
      "E:[0, 29, inf, inf, 27, 10, inf]\n",
      "D:[0, 29, inf, 22, 27, 10, 25]\n",
      "C:[0, 29, 12, 22, 27, 10, 18]\n",
      "B:[0, 16, 12, 22, 27, 10, 18]\n",
      "G:[0, 16, 12, 22, 27, 10, 15]\n"
     ]
    }
   ],
   "source": [
    "vertex = ['A', 'B', 'C', 'D', 'E', 'F', 'G']\n",
    "weight = [\n",
    "    [None, 29, None, None, None, 10, None],\n",
    "    [29, None, 16, None, None, None, 15],\n",
    "    [None, 16, None, 12, None, None, None],\n",
    "    [None, None, 12, None, 22, None, 18],\n",
    "    [None, None, None, 22, None, 27, 25],\n",
    "    [10, None, None, None, 27, None, None],\n",
    "    [None, 15, None, 18, 25, None, None]\n",
    "]\n",
    "\n",
    "print(\"MST By Prim's Algorithm\")\n",
    "MSTPrim(vertex, weight)"
   ]
  },
  {
   "cell_type": "markdown",
   "metadata": {},
   "source": [
    "---\n",
    "# 수행결과\n",
    "![8.5 result](../img/img35.jpg)"
   ]
  },
  {
   "cell_type": "markdown",
   "metadata": {},
   "source": [
    "---\n",
    "# 복잡도 분석\n",
    "\n",
    "#### geyMinVertex()함수가 n만큼 반복된다 내부 루프도 n번 반복된다 따라서 시간복잡도 O(n²)"
   ]
  },
  {
   "cell_type": "markdown",
   "metadata": {},
   "source": [
    "---\n",
    "# 조별협력내용\n",
    "#### 팀원이랑  함께 협력하여 알고리즘을 풀었음 "
   ]
  }
 ],
 "metadata": {
  "kernelspec": {
   "display_name": "Python 3",
   "language": "python",
   "name": "python3"
  },
  "language_info": {
   "codemirror_mode": {
    "name": "ipython",
    "version": 3
   },
   "file_extension": ".py",
   "mimetype": "text/x-python",
   "name": "python",
   "nbconvert_exporter": "python",
   "pygments_lexer": "ipython3",
   "version": "3.11.9"
  }
 },
 "nbformat": 4,
 "nbformat_minor": 2
}
