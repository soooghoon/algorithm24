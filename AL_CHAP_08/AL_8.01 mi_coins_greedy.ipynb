{
 "cells": [
  {
   "cell_type": "markdown",
   "metadata": {},
   "source": [
    "---\n",
    "# 문제정의\n",
    "#### 액면가가 서로 다른 m가지 동전 {C₁, C₂ ... C}이 있다 거스름돈으로 V원을 동전으로만 돌려주어야 한다면 최소 몇 개의 동전이 필요한지를 구하라  단 모든 동전은 무한히 사용할수 있고 동전들은 액수가 큰 것부터 내림차순으로 순서대로 정렬되어 있다 "
   ]
  },
  {
   "cell_type": "markdown",
   "metadata": {},
   "source": [
    "---\n",
    "# 알고리즘 설명\n",
    "####  가능한(feasible) 해: 주어진 문제의 제약 조건을 모두 충족하는 가능한 해이다 /지역적 최적: 해당 단계에서 가능한 모든 것 중에서 가장 좋은 선택이다/ 되돌릴 수 없음: 한 번 만들어진 후에는 알고리즘의 후속 단계에서 변경할 수 없다. 탐욕적 기법은  결정 순간마다 가능한 해들 중에 지역적으로 최적인 것을 선택하는데 이러한 선택은 이후의 단계에서 변경되지 않는다."
   ]
  },
  {
   "cell_type": "markdown",
   "metadata": {},
   "source": [
    "---\n",
    "# 손으로 푼 예제\n",
    "![8.1 result](../img/img34.jpg)"
   ]
  },
  {
   "cell_type": "markdown",
   "metadata": {},
   "source": [
    "---\n",
    "# 코드개요\n",
    "#### 주석 참고"
   ]
  },
  {
   "cell_type": "markdown",
   "metadata": {},
   "source": [
    "---\n",
    "# 알고리즘 코드"
   ]
  },
  {
   "cell_type": "code",
   "execution_count": 9,
   "metadata": {},
   "outputs": [],
   "source": [
    "def min_coins_greedy(coins, V):\n",
    "    count = []  # 각 동전의 개수 저장\n",
    "    for i in range(len(coins)):\n",
    "        cnt = V // coins[i]  # 현재 액면가의 최대 사용 가능 개수\n",
    "        count.append(cnt)\n",
    "        V -= cnt * coins[i]  # 남은 거스름돈 계산\n",
    "    return count"
   ]
  },
  {
   "cell_type": "markdown",
   "metadata": {},
   "source": [
    "---\n",
    "# 테스트코드"
   ]
  },
  {
   "cell_type": "code",
   "execution_count": 10,
   "metadata": {},
   "outputs": [
    {
     "name": "stdout",
     "output_type": "stream",
     "text": [
      "잔돈 액수 =  580\n",
      "동전 종류 =  [500, 100, 50, 10, 5, 1]\n",
      "동전 개수 =  [1, 0, 1, 3, 0, 0]\n"
     ]
    }
   ],
   "source": [
    "coins = [500, 100, 50, 10, 5, 1]\n",
    "V = 580\n",
    "\n",
    "print(\"잔돈 액수 = \", V)\n",
    "print(\"동전 종류 = \", coins)\n",
    "print(\"동전 개수 = \", min_coins_greedy(coins, V))"
   ]
  },
  {
   "cell_type": "markdown",
   "metadata": {},
   "source": [
    "---\n",
    "# 수행결과\n",
    "![8.1 result](../img/img33.jpg)"
   ]
  },
  {
   "cell_type": "markdown",
   "metadata": {},
   "source": [
    "---\n",
    "# 복잡도 분석\n",
    "\n",
    "#### 동전의 종류만큼 루프를 반복하므로 동전의 액면가가 m가지라면 시간 복잡도는 명확히 O(m)이다 이것은 지수함수로 나타나는 완전 탐색에 비해 당연히 탁월하며 동적 계획법의 O(mV)에 비해서도 우월하다 "
   ]
  },
  {
   "cell_type": "markdown",
   "metadata": {},
   "source": [
    "---\n",
    "# 조별협력내용\n",
    "#### 팀원이랑  함께 협력하여 알고리즘을 풀었음 "
   ]
  }
 ],
 "metadata": {
  "kernelspec": {
   "display_name": "Python 3",
   "language": "python",
   "name": "python3"
  },
  "language_info": {
   "codemirror_mode": {
    "name": "ipython",
    "version": 3
   },
   "file_extension": ".py",
   "mimetype": "text/x-python",
   "name": "python",
   "nbconvert_exporter": "python",
   "pygments_lexer": "ipython3",
   "version": "3.11.9"
  }
 },
 "nbformat": 4,
 "nbformat_minor": 2
}
