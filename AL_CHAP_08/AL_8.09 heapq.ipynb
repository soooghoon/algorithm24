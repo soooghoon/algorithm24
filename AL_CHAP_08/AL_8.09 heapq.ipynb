{
 "cells": [
  {
   "cell_type": "markdown",
   "metadata": {},
   "source": [
    "---\n",
    "# 문제정의\n",
    "#### 허프만트리 기법을 사용하여 트리가 합해지는 과정과 최종 트리의 루트를 출력하는 코드를 만들어라"
   ]
  },
  {
   "cell_type": "markdown",
   "metadata": {},
   "source": [
    "---\n",
    "# 알고리즘 설명\n",
    "#### 허프만 트리를 만드는 알고리즘은 트리 중에서 루트값이 가장 작은 트리 2개를 반복적으로 찾아야 한다. 우선순위 큐를 이용하면 효과적이고 항목을 넣는 순서와 상관없이 꺼낼  때에는 항상 우선순위가 가장 높은 항목을 먼저 꺼낸다. 우선순위 큐를 구현하는 가장 효율적인 방법은 힙트리를 사용하는 것이다."
   ]
  },
  {
   "cell_type": "markdown",
   "metadata": {},
   "source": [
    "---\n",
    "# 손으로 푼 예제\n",
    "![AL 8.09 heap](https://raw.githubusercontent.com/Karuperu/Algorithm24/93211fc9f8a499dd6153bb962cb9e6ec5f1551b3/img/Chapter%2008/AL_8.09%20heapq_hand.jpg)\n"
   ]
  },
  {
   "cell_type": "markdown",
   "metadata": {},
   "source": [
    "---\n",
    "# 코드개요\n",
    "#### 주석 참고"
   ]
  },
  {
   "cell_type": "markdown",
   "metadata": {},
   "source": [
    "---\n",
    "# 알고리즘 코드"
   ]
  },
  {
   "cell_type": "code",
   "execution_count": 7,
   "metadata": {},
   "outputs": [],
   "source": [
    "import heapq\n",
    "\n",
    "def make_heap_tree(freq, label):\n",
    "    n = len(freq) # 문자의 개수\n",
    "    h = [] # 힙을 위한 리스트\n",
    "    for i in range(n): #모든 문자를 최소힙에 삽입\n",
    "        heapq.heappush(h, (freq[i], label[i])) #(키, 값) 삽입\n",
    "\n",
    "    for i in range(1, n): #n -1번 병합\n",
    "        e1 = heapq.heappop(h) # 가장 작은 트리\n",
    "        e2 = heapq.heappop(h) # 다음 작은 트리\n",
    "        heapq.heappush(h, (e1[0]+e2[0], e1[1]+e2[1])) # 병합트리 삽입\n",
    "        print(e1, \"+\", e2) # 병합내용 출력\n",
    "\n",
    "    print(heapq.heappop(h)) #최종트리의 루트 출력"
   ]
  },
  {
   "cell_type": "markdown",
   "metadata": {},
   "source": [
    "---\n",
    "# 테스트코드"
   ]
  },
  {
   "cell_type": "code",
   "execution_count": 8,
   "metadata": {},
   "outputs": [
    {
     "name": "stdout",
     "output_type": "stream",
     "text": [
      "(3, 'B') + (4, 'G')\n",
      "(6, 'F') + (7, 'BG')\n",
      "(8, 'C') + (10, 'D')\n",
      "(12, 'H') + (13, 'FBG')\n",
      "(18, 'CD') + (24, 'A')\n",
      "(25, 'HFBG') + (33, 'E')\n",
      "(42, 'CDA') + (58, 'HFBGE')\n",
      "(100, 'CDAHFBGE')\n"
     ]
    }
   ],
   "source": [
    "label = ['A', 'B', 'C', 'D', 'E', 'F', 'G', 'H']\n",
    "freq = [24, 3, 8, 10, 33, 6, 4, 12]\n",
    "make_heap_tree(freq, label)"
   ]
  },
  {
   "cell_type": "markdown",
   "metadata": {},
   "source": [
    "---\n",
    "# 수행결과\n",
    "![AL 8.09 heapq](https://raw.githubusercontent.com/Karuperu/Algorithm24/93211fc9f8a499dd6153bb962cb9e6ec5f1551b3/img/Chapter%2008/AL_8.09%20heapq_result.PNG)"
   ]
  },
  {
   "cell_type": "markdown",
   "metadata": {},
   "source": [
    "---\n",
    "# 복잡도 분석\n",
    "#### 초기 우선순위 큐를 만드는 과정에서 루프는 n번 반복한다. 그안에서 원순위 큐에 엔트리를 삽입하는 과정이 있는데 힙으로 구현된 우선순위 큐에서는 삽입과 삭제 연산의 복잡도가 모두 O(log2n)이다. 따라서 복잡도는 O(nlog2n)이다."
   ]
  },
  {
   "cell_type": "markdown",
   "metadata": {},
   "source": [
    "---\n",
    "# 조별협력내용\n",
    "#### 팀원이랑  함께 협력하여 알고리즘을 풀었음 "
   ]
  }
 ],
 "metadata": {
  "kernelspec": {
   "display_name": "Python 3",
   "language": "python",
   "name": "python3"
  },
  "language_info": {
   "codemirror_mode": {
    "name": "ipython",
    "version": 3
   },
   "file_extension": ".py",
   "mimetype": "text/x-python",
   "name": "python",
   "nbconvert_exporter": "python",
   "pygments_lexer": "ipython3",
   "version": "3.11.9"
  }
 },
 "nbformat": 4,
 "nbformat_minor": 2
}
