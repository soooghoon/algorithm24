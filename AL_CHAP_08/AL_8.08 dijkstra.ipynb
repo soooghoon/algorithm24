{
 "cells": [
  {
   "cell_type": "markdown",
   "metadata": {},
   "source": [
    "---\n",
    "# 문제정의\n",
    "#### 한 정점에서 다른 모든 정점까지의 최단경로를 구하라"
   ]
  },
  {
   "cell_type": "markdown",
   "metadata": {},
   "source": [
    "---\n",
    "# 알고리즘 설명\n",
    "#### 시작정점을 기준으로 다른정점으로의 최단경로를 구하기 위한 알고리즘이다"
   ]
  },
  {
   "cell_type": "markdown",
   "metadata": {},
   "source": [
    "---\n",
    "# 손으로 푼 예제\n",
    "![AL 8.8 hand](https://raw.githubusercontent.com/Karuperu/Algorithm24/93211fc9f8a499dd6153bb962cb9e6ec5f1551b3/img/Chapter%2008/8.8%20hand.jpg)"
   ]
  },
  {
   "cell_type": "markdown",
   "metadata": {},
   "source": [
    "---\n",
    "# 코드 개요\n",
    "#### getMinVertex함수는 dist배열에서 선택되지 않은 정점 중 가장 작은값을 가지는 정점을 찾는다.\n",
    "#### shortest_path_dijkstra함수는 그래프의 정점리스트인 vtx와 인접행렬인 adj 시작정점인 start를 인자로 받는다.\n",
    "#### 각 정점까지의 거리를 저장하는 dist 리스트를 초기화한다.\n",
    "#### 각 정점까지의 경로를 저장하는 path 리스트를 초기화한다.\n",
    "#### found 리스트를 사용하여 이미 선택된 정점을 표시한다.\n",
    "#### dist 리스트와 found 리스트를 이용해 최단 경로를 반복적으로 업데이트한다.\n",
    "#### 각 단계에서 현재 상태를 출력하고, 최종적으로 시작 정점에서 각 정점까지의 최단 경로를 나타내는 path 리스트를 반환한다.\n"
   ]
  },
  {
   "cell_type": "markdown",
   "metadata": {},
   "source": [
    "---\n",
    "# 알고리즘 코드"
   ]
  },
  {
   "cell_type": "code",
   "execution_count": 1,
   "metadata": {},
   "outputs": [],
   "source": [
    "INF = 9999\n",
    "def getMinVertex(dist, selected):\n",
    "    minv= -1\n",
    "    mindist=INF\n",
    "    for v in range(len(dist)):\n",
    "        if not selected[v] and dist[v]<mindist:\n",
    "            mindist = dist[v]\n",
    "            minv=v\n",
    "    return minv\n",
    "def shortest_path_dijkstra(vtx, adj, start):\n",
    "    vsize=len(vtx)\n",
    "    dist=list(adj[start])\n",
    "    dist[start]=0\n",
    "    path = [start]*vsize\n",
    "    found=[False]*vsize\n",
    "    found[start]=True\n",
    "    for i in range(vsize):\n",
    "        print(\"Step%2d: \"%(i+1), dist)\n",
    "        u= getMinVertex(dist, found)\n",
    "        found[u]=True\n",
    "        for w in range(vsize):\n",
    "            if not found[w]:\n",
    "                if dist[u]+adj[u][w]<dist[w]:\n",
    "                    dist[w]=dist[u]+adj[u][w]\n",
    "                    path[w]=u\n",
    "    return path"
   ]
  },
  {
   "cell_type": "markdown",
   "metadata": {},
   "source": [
    "---\n",
    "# 테스트 코드"
   ]
  },
  {
   "cell_type": "code",
   "execution_count": 2,
   "metadata": {},
   "outputs": [
    {
     "name": "stdout",
     "output_type": "stream",
     "text": [
      "Shortest Path By Dijkstra Algorithm\n",
      "Step 1:  [0, 7, 9999, 9999, 3, 10, 9999]\n",
      "Step 2:  [0, 5, 9999, 14, 3, 10, 8]\n",
      "Step 3:  [0, 5, 9, 14, 3, 10, 8]\n",
      "Step 4:  [0, 5, 9, 12, 3, 10, 8]\n",
      "Step 5:  [0, 5, 9, 11, 3, 10, 8]\n",
      "Step 6:  [0, 5, 9, 11, 3, 10, 8]\n",
      "Step 7:  [0, 5, 9, 11, 3, 10, 8]\n",
      "[최단경로: A->B]B<-E<-A\n",
      "[최단경로: A->C]C<-B<-E<-A\n",
      "[최단경로: A->D]D<-C<-B<-E<-A\n",
      "[최단경로: A->E]E<-A\n",
      "[최단경로: A->F]F<-A\n",
      "[최단경로: A->G]G<-E<-A\n"
     ]
    }
   ],
   "source": [
    "vertex = ['A', 'B', 'C', 'D', 'E', 'F', 'G']\n",
    "weight = [\n",
    "    [0, 7, INF, INF, 3, 10, INF],\n",
    "    [7, 0, 4, 10, 2, 6, INF],\n",
    "    [INF, 4, 0, 2, INF, INF, INF],\n",
    "    [INF, 10, 2, 0, 11, 9, 4],\n",
    "    [3, 2, INF, 11, 0, 13, 5],\n",
    "    [10, 6, INF, 9, 13, 0, INF],\n",
    "    [INF, INF, INF, 4, 5, INF, 0]\n",
    "]\n",
    "print(\"Shortest Path By Dijkstra Algorithm\")\n",
    "start=0\n",
    "path = shortest_path_dijkstra(vertex, weight, start)\n",
    "for end in range(len(vertex)):\n",
    "    if end != start:\n",
    "        print(\"[최단경로: %s->%s]%s\"%(vertex[start], vertex[end], vertex[end]), end='')\n",
    "        while(path[end]!= start):\n",
    "            print(\"<-%s\"%vertex[path[end]], end='')\n",
    "            end=path[end]\n",
    "        print(\"<-%s\"%vertex[path[end]])"
   ]
  },
  {
   "cell_type": "markdown",
   "metadata": {},
   "source": [
    "---\n",
    "# 수행결과\n",
    "![AL 8.8 result](https://raw.githubusercontent.com/Karuperu/Algorithm24/93211fc9f8a499dd6153bb962cb9e6ec5f1551b3/img/Chapter%2008/8.8%20result.png)"
   ]
  },
  {
   "cell_type": "markdown",
   "metadata": {},
   "source": [
    "---\n",
    "# 복잡도 분석\n",
    "#### 반복문 외부와 내부 둘다 n번 반복하기때문에 O(n^2)"
   ]
  },
  {
   "cell_type": "markdown",
   "metadata": {},
   "source": [
    "---\n",
    "# 조별 협력 내용\n",
    "#### 조원과 토의를 하며 문제를 풀었음"
   ]
  }
 ],
 "metadata": {
  "kernelspec": {
   "display_name": "Python 3",
   "language": "python",
   "name": "python3"
  },
  "language_info": {
   "codemirror_mode": {
    "name": "ipython",
    "version": 3
   },
   "file_extension": ".py",
   "mimetype": "text/x-python",
   "name": "python",
   "nbconvert_exporter": "python",
   "pygments_lexer": "ipython3",
   "version": "3.12.3"
  }
 },
 "nbformat": 4,
 "nbformat_minor": 2
}
