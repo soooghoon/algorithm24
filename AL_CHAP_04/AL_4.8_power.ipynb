{
 "cells": [
  {
   "cell_type": "markdown",
   "metadata": {},
   "source": [
    "---\n",
    "# 문제 정의\n",
    "### 억지기법이 아닌 축소정복기법을 사용하여 x의 n제곱을 구하는 문제"
   ]
  },
  {
   "cell_type": "markdown",
   "metadata": {},
   "source": [
    "---\n",
    "# 알고리즘 설명\n",
    "### x의 지수인 n을 2로 나누어 짝수면 x의 제곱을 n/2만큼 아니라면 x를 한번 더 곱해주는 알고리즘 "
   ]
  },
  {
   "cell_type": "markdown",
   "metadata": {},
   "source": [
    "---\n",
    "# 손으로 푼 예제\n",
    "### ![4 8 handmade](https://raw.githubusercontent.com/chani890/algorithm24/36a1795b73ac759dc607dd9bf294ee2cf7ea3684/chap04/image-2.png)"
   ]
  },
  {
   "cell_type": "markdown",
   "metadata": {},
   "source": [
    "---\n",
    "# 코드 개요\n",
    "## 입력변수\n",
    "### x : x는 거듭제곱의 밑이다\n",
    "### n : n는 거듭제곱의 지수이다\n",
    "# 출력\n",
    "### 이 알고리즘은 x의 지수인 n을 2로 나누어 짝수면 x의 제곱에 n/2만큼을 홀수면 (n-1)/2만큼 제곱하고 x를 한번 더 곱하여 출력\n",
    "## 함수설명\n",
    "### 이 함수는 지수인 n을 2로 나누어 x의 제곱에 n/2를 곱해주는 함수"
   ]
  },
  {
   "cell_type": "markdown",
   "metadata": {},
   "source": [
    "\n",
    "---\n",
    "# 코드"
   ]
  },
  {
   "cell_type": "code",
   "execution_count": null,
   "metadata": {},
   "outputs": [],
   "source": [
    "def power(x,n):\n",
    "    if n==0:\n",
    "        return 1\n",
    "    elif(n%2)==0:\n",
    "        return power(x*x,n//2)\n",
    "    else:\n",
    "        return x*power(x*x,(n-1)//2)"
   ]
  },
  {
   "cell_type": "markdown",
   "metadata": {},
   "source": [
    "---\n",
    "# 테스트 코드"
   ]
  },
  {
   "cell_type": "code",
   "execution_count": null,
   "metadata": {},
   "outputs": [],
   "source": [
    "result = power(5, 2)\n",
    "print(result)"
   ]
  },
  {
   "cell_type": "markdown",
   "metadata": {},
   "source": [
    "---\n",
    "# 수행결과\n",
    "### ![4 8 result](https://raw.githubusercontent.com/chani890/algorithm24/36a1795b73ac759dc607dd9bf294ee2cf7ea3684/chap04/image-1.png)"
   ]
  },
  {
   "cell_type": "markdown",
   "metadata": {},
   "source": [
    "---\n",
    "# 복잡도 분석\n",
    "### O(log n)"
   ]
  },
  {
   "cell_type": "markdown",
   "metadata": {},
   "source": [
    "---\n",
    "# 협력 내용\n",
    "### 팀원과 함께 코드 개요를 공부하며 협력함"
   ]
  }
 ],
 "metadata": {
  "language_info": {
   "name": "python"
  },
  "orig_nbformat": 4
 },
 "nbformat": 4,
 "nbformat_minor": 2
}
