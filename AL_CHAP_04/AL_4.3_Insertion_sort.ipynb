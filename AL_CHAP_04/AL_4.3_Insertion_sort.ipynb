{
 "cells": [
  {
   "cell_type": "markdown",
   "metadata": {},
   "source": [
    "---\n",
    "# 문제정의\n",
    "\n",
    "#### 정렬된 리스트에서 항목 삽입 위치 찾기 ."
   ]
  },
  {
   "cell_type": "markdown",
   "metadata": {},
   "source": [
    "---\n",
    "# 알고리즘 설명\n",
    "#### 자료 배열의 모든 요소를 앞에서부터 차례대로 이미 정렬된 배열 부분과 비교 하여, 자신의 위치를 찾아 삽입함으로써 정렬을 완성하는 알고리즘 매 순서마다 해당 원소를 삽입할 수 있는 위치를 찾아 해당 위치에 넣는다."
   ]
  },
  {
   "cell_type": "markdown",
   "metadata": {},
   "source": [
    "---\n",
    "# 손으로 푼 예제"
   ]
  },
  {
   "cell_type": "markdown",
   "metadata": {},
   "source": [
    "---\n",
    "# 코드 개요\n",
    "#### 함수명 insertion_sort 주어진 리스트 A를 삽입 정렬 알고리즘을 사용하여 정렬 각 단계에서 printStep 함수를 호출하여 정렬 과정을 출력함\n",
    "\n",
    "#### 주석참고"
   ]
  },
  {
   "cell_type": "markdown",
   "metadata": {},
   "source": [
    "---\n",
    "# 알고리즘 코드 "
   ]
  },
  {
   "cell_type": "code",
   "execution_count": 1,
   "metadata": {},
   "outputs": [],
   "source": [
    "def insertion_sort(A): \n",
    "    n = len(A) #입력의 크기\n",
    "    for i in range(1, n):#외부 루트: 1, 2, ... n-1\n",
    "        key = A[i]  # A[I]를 key에 저장 \n",
    "        j = i - 1 #항목 A[I]부터 검사\n",
    "        while j >= 0 and A[j] > key: #내부 루프\n",
    "            A[j + 1] = A[j] #항목들을 오른쪽부터 한 칸씩 이동\n",
    "            j = j - 1 #위치를 왼쪽으로 이동\n",
    "        A[j + 1] = key #항목 A[I]를 제 위치에 삽입 \n",
    "        printStep(A, i)\n",
    "\n",
    "def printStep(A, step):\n",
    "    print(f\"Step {step} = {A}\")\n"
   ]
  },
  {
   "cell_type": "markdown",
   "metadata": {},
   "source": [
    "---\n",
    "# 테스트 코드 "
   ]
  },
  {
   "cell_type": "code",
   "execution_count": 2,
   "metadata": {},
   "outputs": [
    {
     "name": "stdout",
     "output_type": "stream",
     "text": [
      "Original : [5, 3, 8, 4, 9, 1, 6, 2, 7]\n",
      "Step 1 = [3, 5, 8, 4, 9, 1, 6, 2, 7]\n",
      "Step 2 = [3, 5, 8, 4, 9, 1, 6, 2, 7]\n",
      "Step 3 = [3, 4, 5, 8, 9, 1, 6, 2, 7]\n",
      "Step 4 = [3, 4, 5, 8, 9, 1, 6, 2, 7]\n",
      "Step 5 = [1, 3, 4, 5, 8, 9, 6, 2, 7]\n",
      "Step 6 = [1, 3, 4, 5, 6, 8, 9, 2, 7]\n",
      "Step 7 = [1, 2, 3, 4, 5, 6, 8, 9, 7]\n",
      "Step 8 = [1, 2, 3, 4, 5, 6, 7, 8, 9]\n",
      "Insertion : [1, 2, 3, 4, 5, 6, 7, 8, 9]\n"
     ]
    }
   ],
   "source": [
    "data = [5, 3, 8, 4, 9, 1, 6, 2, 7]\n",
    "print(\"Original :\", data)\n",
    "insertion_sort(data)\n",
    "print(\"Insertion :\", data)"
   ]
  },
  {
   "cell_type": "markdown",
   "metadata": {},
   "source": [
    "---\n",
    "# 수행결과\n",
    "![3.4 result](../img/img1.png)"
   ]
  },
  {
   "cell_type": "markdown",
   "metadata": {},
   "source": []
  },
  {
   "cell_type": "markdown",
   "metadata": {},
   "source": [
    "---\n",
    "# 복잡도 분석\n",
    "\n",
    "#### 최선의 경우 : 가장 유리한 입력은 리스트가 이미 오름차순으로 정렬되어 있는 경우다 외부루프는 항상 n-1번 실행되는데 (n-1)*1=n-1이고 따라서 O(n)이다\n",
    "\n",
    "#### 최악의 경우 : 가장 불리한 입력은 리스트가 역으로 정렬된 경우다 내부 루프가 i번 반복되므로 기본연산 i번 실행된다 2/n(n-1)= O(n²)"
   ]
  },
  {
   "cell_type": "markdown",
   "metadata": {},
   "source": [
    "---\n",
    "# 조별 협력 내용\n",
    "#### 팀원이랑  함께 협력하여 알고리즘을 풀었음 \n",
    "---"
   ]
  }
 ],
 "metadata": {
  "kernelspec": {
   "display_name": "Python 3",
   "language": "python",
   "name": "python3"
  },
  "language_info": {
   "codemirror_mode": {
    "name": "ipython",
    "version": 3
   },
   "file_extension": ".py",
   "mimetype": "text/x-python",
   "name": "python",
   "nbconvert_exporter": "python",
   "pygments_lexer": "ipython3",
   "version": "3.11.9"
  }
 },
 "nbformat": 4,
 "nbformat_minor": 2
}
