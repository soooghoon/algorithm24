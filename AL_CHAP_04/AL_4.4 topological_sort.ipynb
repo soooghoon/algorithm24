{
 "cells": [
  {
   "cell_type": "markdown",
   "metadata": {},
   "source": [
    "---\n",
    "# 문제정의\n",
    "#### DFS는 억지 기법으로 그래프의 모든 정점을 한 번씩 방문하는 체계적인 방법이다."
   ]
  },
  {
   "cell_type": "markdown",
   "metadata": {},
   "source": [
    "---\n",
    "# 알고리즘 설명\n",
    "#### 축소 정복 기법을 이용하여 정점을 출력하는 알고리즘이다."
   ]
  },
  {
   "cell_type": "markdown",
   "metadata": {},
   "source": [
    "---\n",
    "# 손으로 푼 예제\n",
    "![AL4 4_topological_sort_hand](../img/img9.jpg)"
   ]
  },
  {
   "cell_type": "markdown",
   "metadata": {},
   "source": [
    "---\n",
    "# 코드 개요\n",
    "#### mygraph : DFS기반 위상정렬 방향 그래프\n",
    "#### topological_sort(mygraph): 방향 그래프의 결과값을 반환해준다.\n",
    "#### inDeg : 진입차수, 처음 모든 정점에 대해 0으로 초기화 해주고 모든 정점v에 인접한 모든 정점u에 대해 진입차수를 1증가시킴\n",
    "#### vlist[] : 진입차수가 0인 정점 리스트를 만듦\n",
    "#### v = vlist.pop() 진입 차수가 0인 정점을 하나 꺼냄\n",
    "#### inDeg[u] -= 1 진입차수 감소\n",
    "#### inDeg[u] == 0 진입차수가 0이면 vlist에 추가"
   ]
  },
  {
   "cell_type": "markdown",
   "metadata": {},
   "source": [
    "---\n",
    "# 알고리즘 코드"
   ]
  },
  {
   "cell_type": "code",
   "execution_count": 1,
   "metadata": {},
   "outputs": [],
   "source": [
    "def topological_sort(graph):\n",
    "    inDeg = {}\n",
    "    for v in graph :\n",
    "        inDeg[v] = 0\n",
    "    for v in graph :\n",
    "        for u in graph[v] :\n",
    "            inDeg[u] += 1\n",
    "\n",
    "    vlist = []\n",
    "    for v in graph :\n",
    "        if inDeg[v] == 0:\n",
    "            vlist.append(v)\n",
    "\n",
    "    while vlist :\n",
    "        v = vlist.pop()\n",
    "        print(v, end='')\n",
    "\n",
    "        for u in graph[v] :\n",
    "            inDeg[u] -= 1\n",
    "            if inDeg[u] == 0 :\n",
    "                vlist.append(u)"
   ]
  },
  {
   "cell_type": "markdown",
   "metadata": {},
   "source": [
    "---\n",
    "# 테스트 코드"
   ]
  },
  {
   "cell_type": "code",
   "execution_count": 2,
   "metadata": {},
   "outputs": [
    {
     "name": "stdout",
     "output_type": "stream",
     "text": [
      "topological_sort: \n",
      "BEACDF\n"
     ]
    }
   ],
   "source": [
    "mygraph = {\"A\" : {\"C\", \"D\"},\"B\" :{\"D\", \"E\"}, \"C\" : {\"D\", \"F\"}, \"D\" : {\"F\"}, \"E\" : {\"F\"}, \"F\" : {} }\n",
    "print('topological_sort: ')\n",
    "topological_sort(mygraph)\n",
    "print()"
   ]
  },
  {
   "cell_type": "markdown",
   "metadata": {},
   "source": [
    "---\n",
    "# 수행결과\n",
    "![AL4 4_topological_sort_result](../img/img10.PNG)"
   ]
  },
  {
   "cell_type": "markdown",
   "metadata": {},
   "source": [
    "---\n",
    "# 복잡도 분석\n",
    "\n",
    "#### 입력 그래프의 정점의 수를 n, 간선의 개수를 e라고 할때 알고리즘 4.4는 두 가지의 초기화 단계와 주 코드를 가진 세 단계 알고리즘으로 볼 수 있다. 각 단계에 대한 처리시간은 : \n",
    "#### 초기화 1단계: 모든 정점의 진입차수를 계산하는 단계이다. 3~4행은 n번 반복되므로 O(n)이다. 이중 루프는 모든 간선에 대해 처리하는데, inDeg[u] += 1 의 개수만큼 반복되어, 복잡도는 O(e)이다 두 간계의 전체 복잡도는 O(n+e)이다.\n",
    "#### 초기화 2단계: 진입차수가 0인 정점 리스트를 만드는 단계이다. 10행의 반복문은 명확히 정점의 수 만큼 반복되고, 따라서 O(n)이다\n",
    "#### 주 알고리즘(14~21행): 이중 루프로 구성되어 있지만 최악의 경우에도 이중루프내부의 문장은 전체 간섭의 수만큼만 수행된다. 따라서 복잡도는 O(e)이다."
   ]
  },
  {
   "cell_type": "markdown",
   "metadata": {},
   "source": [
    "---\n",
    "# 조별 협력 내용\n",
    "#### 팀원들과 검수 밑 내용 정리 후 마무리 하였음"
   ]
  }
 ],
 "metadata": {
  "kernelspec": {
   "display_name": "Python 3",
   "language": "python",
   "name": "python3"
  },
  "language_info": {
   "codemirror_mode": {
    "name": "ipython",
    "version": 3
   },
   "file_extension": ".py",
   "mimetype": "text/x-python",
   "name": "python",
   "nbconvert_exporter": "python",
   "pygments_lexer": "ipython3",
   "version": "3.11.9"
  }
 },
 "nbformat": 4,
 "nbformat_minor": 2
}
