{
 "cells": [
  {
   "cell_type": "markdown",
   "metadata": {},
   "source": [
    "---\n",
    "# 문제정의\n",
    "#### 리스트에서 n번째로 작은 수를 구하는 알고리즘을 설계하라."
   ]
  },
  {
   "cell_type": "markdown",
   "metadata": {},
   "source": [
    "---\n",
    "# 알고리즘 설명\n",
    "#### 축소 정복 기법과 호어 분할을 이용하여 n번째 작은 수를 구하는 알고리즘이다."
   ]
  },
  {
   "cell_type": "markdown",
   "metadata": {},
   "source": [
    "---\n",
    "# 손으로 푼 예제\n",
    "![4 11(4 12) handmade](https://github.com/Karuperu/Algorithm24/assets/162394168/4577dc58-6b3f-4bc5-ac85-33b919df3fb3)"
   ]
  },
  {
   "cell_type": "markdown",
   "metadata": {},
   "source": [
    "---\n",
    "# 코드 개요\n",
    "#### quick_select(A, left, right, k): 이 함수는 주어진 배열 A에서 k번째로 작은 원소를 찾아 반환하고 left와 right는 배열의 탐색 범위를 지정한다.\n",
    "#### partition(A, left, right): 이 함수는 배열 A를 피벗을 기준으로 분할하고 left와 right는 분할할 범위를 지정한다.\n",
    "#### 피벗은 A[left]로 설정되며, 함수는 피벗의 최종 위치를 반환한다.\n",
    "#### array: 이 변수는 입력 리스트로, 퀵 선택 알고리즘을 적용할 대상이다.\n",
    "#### n: 이 변수는 입력 리스트 array의 길이를 저장한다.\n",
    "#### print 함수: 이 함수는 결과를 출력한다. 문자열과 함께 array, quick_select(array, 0, n - 1, 3), quick_select(array, 0, n - 1, 6)의 결과를 출력한다."
   ]
  },
  {
   "cell_type": "markdown",
   "metadata": {},
   "source": [
    "---\n",
    "# 알고리즘 코드"
   ]
  },
  {
   "cell_type": "code",
   "execution_count": 1,
   "metadata": {},
   "outputs": [],
   "source": [
    "def quick_select(A, left, right, k):\n",
    "    pos = partition(A, left, right)\n",
    "    if(pos + 1 == left + k):\n",
    "        return A[pos]\n",
    "    elif (pos+1 > left):\n",
    "        return quick_select(A, left, pos-1, k)\n",
    "    else:\n",
    "        return quick_select(A, pos+1, right, k-(pos+1-left))\n",
    "\n",
    "def partition(A, left, right):\n",
    "    low = left + 1\n",
    "    high = right\n",
    "    pivot = A[left]\n",
    "    while(low <= high):\n",
    "        while low <= right and A[low] <= pivot : low += 1\n",
    "        while high >= left and A[high] > pivot : high -= 1\n",
    "        if low < high:\n",
    "            A[low], A[high] = A[high], A[low]\n",
    "    A[left], A[high] = A[high], A[left]\n",
    "    return high"
   ]
  },
  {
   "cell_type": "markdown",
   "metadata": {},
   "source": [
    "---\n",
    "# 테스트 코드"
   ]
  },
  {
   "cell_type": "code",
   "execution_count": null,
   "metadata": {},
   "outputs": [],
   "source": [
    "array = [12, 3, 5, 7, 4, 19, 26, 23, 15]\n",
    "print(\"입력 리스트 =\", array)\n",
    "n = len(array)\n",
    "print(\"[축소정복] 3번째 작은 수: \", quick_select(array, 0, n-1, 3))\n",
    "print(\"[축소정복] 6번째 작은 수: \", quick_select(array, 0, n-1, 3))"
   ]
  },
  {
   "cell_type": "markdown",
   "metadata": {},
   "source": [
    "---\n",
    "# 수행 결과\n",
    "![4 11(4 12) result](https://github.com/Karuperu/Algorithm24/assets/162394168/d7796329-8370-4558-88a4-6fcb8b37f212)"
   ]
  },
  {
   "cell_type": "markdown",
   "metadata": {},
   "source": [
    "---\n",
    "# 복잡도 분석\n",
    "#### 최선의 경우: 파티션 함수가 항상 중간값을 선택할 때, 즉, 배열을 정확히 반으로 분할할 때는 시간 복잡도가 O(n)이다.\n",
    "#### 최악의 경우: 파티션 함수가 항상 최솟값이나 최댓값을 선택할 때, 즉, 배열이 이미 정렬되어 있거나 역순으로 정렬되어 있을 때는 시간 복잡도가 O(n^2)이다\n"
   ]
  },
  {
   "cell_type": "markdown",
   "metadata": {},
   "source": [
    "---\n",
    "# 조별 협력 내용\n",
    "#### 이 알고리즘을 구성하면서 팀원들과 소통을 하며 분석을 했습니다.\n",
    "---"
   ]
  }
 ],
 "metadata": {
  "kernelspec": {
   "display_name": "Python 3",
   "language": "python",
   "name": "python3"
  },
  "language_info": {
   "codemirror_mode": {
    "name": "ipython",
    "version": 3
   },
   "file_extension": ".py",
   "mimetype": "text/x-python",
   "name": "python",
   "nbconvert_exporter": "python",
   "pygments_lexer": "ipython3",
   "version": "3.12.2"
  }
 },
 "nbformat": 4,
 "nbformat_minor": 2
}
