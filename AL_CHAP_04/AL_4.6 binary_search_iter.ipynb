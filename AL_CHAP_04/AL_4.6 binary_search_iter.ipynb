{
 "cells": [
  {
   "cell_type": "markdown",
   "metadata": {},
   "source": [
    "---\n",
    "# 문제정의\n",
    "#### 리스트에 n개의 항목이 들어있다. 이 리스트에서 탐색키를 가진 항목을 찾아라. 단, 리스트의 항목들은 정렬되어있다."
   ]
  },
  {
   "cell_type": "markdown",
   "metadata": {},
   "source": [
    "---\n",
    "# 알고리즘 설명\n",
    "#### 순환구조보다 효율이 좋은 반복구조를 사용해서 이진 탐색을 하는 알고리즘이다."
   ]
  },
  {
   "cell_type": "markdown",
   "metadata": {},
   "source": [
    "---\n",
    "# 손으로 푼 예제\n",
    "![4 6 handmade](https://github.com/Karuperu/Algorithm24/assets/162394168/e556da8b-95be-498c-92e0-6fe3314d2087)"
   ]
  },
  {
   "cell_type": "markdown",
   "metadata": {},
   "source": [
    "---\n",
    "# 코드 개요\n",
    "#### 주어진 binary_search_iter 함수는 정렬된 리스트 A에서 주어진 키(key)의 인덱스를 반복적으로 이진 탐색하여 찾는 함수다.\n",
    "#### 함수는 두 개의 포인터인 low와 high를 유지하며 탐색 범위를 조정한다.\n",
    "#### 키를 중간 요소(A[mid])와 비교하고 탐색 범위를 조정한다.\n",
    "#### 키를 찾으면 해당 인덱스를 반환하고, 그렇지 않으면 -1을 반환한다."
   ]
  },
  {
   "cell_type": "markdown",
   "metadata": {},
   "source": [
    "---\n",
    "# 알고리즘 코드"
   ]
  },
  {
   "cell_type": "code",
   "execution_count": 3,
   "metadata": {},
   "outputs": [],
   "source": [
    "def binary_search_iter(A, key, low, high):\n",
    "    while(low <= high):\n",
    "        mid = (low + high) // 2\n",
    "        if key == A[mid]:\n",
    "            return mid\n",
    "        elif key> A[mid]:\n",
    "            low = mid + 1\n",
    "        else:\n",
    "            high = mid - 1\n",
    "    return -1"
   ]
  },
  {
   "cell_type": "markdown",
   "metadata": {},
   "source": [
    "---\n",
    "# 테스트 코드"
   ]
  },
  {
   "cell_type": "code",
   "execution_count": null,
   "metadata": {},
   "outputs": [],
   "source": [
    "listA = [1, 3, 8, 13, 13, 16, 21, 26, 27, 30, 33, 36, 39, 41, 44, 49]\n",
    "print(\"입력 리스트 =\",listA)\n",
    "print(\"33 탐색(반복) -->\", binary_search_iter(listA, 33, 0, len(listA)-1))\n",
    "print(\"32 탐색(반복) -->\", binary_search_iter(listA, 32, 0, len(listA)-1))"
   ]
  },
  {
   "cell_type": "markdown",
   "metadata": {},
   "source": [
    "---\n",
    "# 수행 결과\n",
    "![4 6 result](https://github.com/Karuperu/Algorithm24/assets/162394168/486080a1-ed9d-4341-bb03-302fd42e1276)"
   ]
  },
  {
   "cell_type": "markdown",
   "metadata": {},
   "source": [
    "---\n",
    "# 복잡도 분석\n",
    "#### 반복마다 검색 범위가 대략 절반으로 줄어들기 때문에, 탐색 범위가 n에서 log n으로 지수적으로 줄어들게 된다.\n",
    "#### 따라서 시간 복잡도는O(log₂ n)이다.\n"
   ]
  },
  {
   "cell_type": "markdown",
   "metadata": {},
   "source": [
    "---\n",
    "# 조별 협력 내용\n",
    "#### 팀원들과 함께 이진 검색 알고리즘을 구현하는 알고리즘을 진행했습니다\n",
    "---"
   ]
  }
 ],
 "metadata": {
  "kernelspec": {
   "display_name": "Python 3",
   "language": "python",
   "name": "python3"
  },
  "language_info": {
   "codemirror_mode": {
    "name": "ipython",
    "version": 3
   },
   "file_extension": ".py",
   "mimetype": "text/x-python",
   "name": "python",
   "nbconvert_exporter": "python",
   "pygments_lexer": "ipython3",
   "version": "3.12.2"
  }
 },
 "nbformat": 4,
 "nbformat_minor": 2
}
