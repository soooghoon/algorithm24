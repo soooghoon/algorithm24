{
 "cells": [
  {
   "cell_type": "markdown",
   "metadata": {},
   "source": [
    "---\n",
    "# 문제정의\n",
    "### 이 문제는 정의에 의해 반복구조를 이용하여 x를 n번 곱하는 방법으로 간단히 할수 있는데 이것은 억지기법으로, 반복구조로 기술한 x의 n-거듭제곱 알고리즘이다 ."
   ]
  },
  {
   "cell_type": "markdown",
   "metadata": {},
   "source": [
    "---\n",
    "# 알고리즘 설명\n",
    "### 반복구조로 기술한 x의 n-거듭제곱 알고리즘\n"
   ]
  },
  {
   "cell_type": "markdown",
   "metadata": {},
   "source": [
    "---\n",
    "# 손으로 푼 예제\n",
    "### ![4 7 handmade](https://raw.githubusercontent.com/chani890/algorithm24/36a1795b73ac759dc607dd9bf294ee2cf7ea3684/chap04/image.png)"
   ]
  },
  {
   "cell_type": "markdown",
   "metadata": {},
   "source": [
    "---\n",
    "# 코드 개요\n",
    "## 입력 변수 \n",
    "### x : x는 거듭제곱의 밑이다\n",
    "### n : n는 거듭제곱의 지수이다\n",
    "## 출력\n",
    "### 이 알고리즘은 반복문을 이용하여 result에 x를 곱해주는 함수로 x의 n제곱을 출력한다\n",
    "## 함수설명\n",
    "### 이 함수는 for문을 통해 x를 n번 곱해주는 함수이다"
   ]
  },
  {
   "cell_type": "markdown",
   "metadata": {},
   "source": [
    "---\n",
    "# 코드"
   ]
  },
  {
   "cell_type": "code",
   "execution_count": null,
   "metadata": {},
   "outputs": [],
   "source": [
    "def slow_power(x,n):\n",
    "    result = 1.0\n",
    "    for i in range(n):\n",
    "        result = result*x\n",
    "    return result "
   ]
  },
  {
   "cell_type": "markdown",
   "metadata": {},
   "source": [
    "---\n",
    "# 테스트 코드"
   ]
  },
  {
   "cell_type": "code",
   "execution_count": null,
   "metadata": {},
   "outputs": [],
   "source": [
    "result = slow_power(5, 2)\n",
    "print(result)"
   ]
  },
  {
   "cell_type": "markdown",
   "metadata": {},
   "source": [
    "---\n",
    "# 수행결과\n",
    "### ![4 7 result](https://github.com/chani890/algorithm24/assets/162541243/490efab9-9007-43ce-9a02-f227edafa9dc)"
   ]
  },
  {
   "cell_type": "markdown",
   "metadata": {},
   "source": [
    "---\n",
    "# 복잡도 분석\n",
    "### \n",
    "$$T(n)= \\frac{1}{n+1}(1+2+...+n)\\\\\n",
    " =\\frac{1}{n+1}(\\frac{n(n+1)}{2}+n)\\\\\n",
    " =\\frac{n}{2}+\\frac{n}{n+1}\\in O(n)$$"
   ]
  },
  {
   "cell_type": "markdown",
   "metadata": {},
   "source": [
    "---\n",
    "# 협력 내용\n",
    "### 알고리즘의 코드 개요를 팀원과 함께 공유함"
   ]
  }
 ],
 "metadata": {
  "language_info": {
   "name": "python"
  },
  "orig_nbformat": 4
 },
 "nbformat": 4,
 "nbformat_minor": 2
}
