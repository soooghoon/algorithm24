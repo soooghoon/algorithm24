{
 "cells": [
  {
   "cell_type": "markdown",
   "metadata": {},
   "source": [
    "---\n",
    "# 문제정의\n",
    "#### 리스트에 n개의 항목이 들어있다. 이 리스트에서 탐색키를 가진 항목을 찾아라. 단, 리스트의 항목들은 정렬되어있다"
   ]
  },
  {
   "cell_type": "markdown",
   "metadata": {},
   "source": [
    "---\n",
    "# 알고리즘 설명\n",
    "#### 순환구조를 사용해서 이진 탐색을 하는 알고리즘이다."
   ]
  },
  {
   "cell_type": "markdown",
   "metadata": {},
   "source": [
    "---\n",
    "# 손으로 푼 예제\n",
    "![4 6 handmade](../img/img4.jpg)"
   ]
  },
  {
   "cell_type": "markdown",
   "metadata": {},
   "source": [
    "---\n",
    "# 코드 개요\n",
    "\n",
    "#### 주석참고"
   ]
  },
  {
   "cell_type": "markdown",
   "metadata": {},
   "source": [
    "---\n",
    "# 알고리즘 코드"
   ]
  },
  {
   "cell_type": "code",
   "execution_count": 13,
   "metadata": {},
   "outputs": [],
   "source": [
    "def binary_search(A, key, low, high):\n",
    "    if low > high: # 종료 조건\n",
    "        return -1\n",
    "    else:\n",
    "        mid = (low + high) // 2 # 중간 위치\n",
    "        if key == A[mid]: # 검색 성공\n",
    "            return mid\n",
    "        elif key < A[mid]: # 왼쪽 부분 리스트 탐색\n",
    "            return binary_search(A, key, low, mid-1)\n",
    "        else: # 오른쪽 부분 리스트 탐색\n",
    "            return binary_search(A, key, mid+1, high)"
   ]
  },
  {
   "cell_type": "markdown",
   "metadata": {},
   "source": [
    "---\n",
    "# 테스트 코드"
   ]
  },
  {
   "cell_type": "code",
   "execution_count": 14,
   "metadata": {},
   "outputs": [
    {
     "name": "stdout",
     "output_type": "stream",
     "text": [
      "입력 리스트 = [1, 3, 8, 13, 13, 16, 21, 26, 27, 30, 33, 36, 39, 41, 44, 491]\n",
      "33 탐색(순환) --> 10\n",
      "32 탐색(순환) --> -1\n"
     ]
    }
   ],
   "source": [
    "listA = [1, 3, 8, 13, 13, 16, 21, 26, 27, 30, 33, 36, 39, 41, 44, 491]\n",
    "print(\"입력 리스트 =\",listA)\n",
    "print(\"33 탐색(순환) -->\", binary_search(listA, 33, 0, len(listA)-1))\n",
    "print(\"32 탐색(순환) -->\", binary_search(listA, 32, 0, len(listA)-1))"
   ]
  },
  {
   "cell_type": "markdown",
   "metadata": {},
   "source": [
    "---\n",
    "# 수행 결과\n",
    "![4.5 result](../img/img3.jpg)"
   ]
  },
  {
   "cell_type": "markdown",
   "metadata": {},
   "source": [
    "---\n",
    "# 복잡도 분석\n",
    "\n",
    "#### 입력의 크기는 정렬된 리스트의 전체 항목의 수 n이다 순차 탐색에서와 같이 이진탐색에서도 입력의 구성에 따라 효율이 다르다 최선의 경우는 한번의 비교만으로 알고리즘이 종료된다 따라서 시간 복잡도는 o(1)이다 "
   ]
  },
  {
   "cell_type": "markdown",
   "metadata": {},
   "source": [
    "---\n",
    "# 조별 협력 내용\n",
    "\n",
    "#### 팀원이랑  함께 협력하여 알고리즘을 풀었음 "
   ]
  }
 ],
 "metadata": {
  "kernelspec": {
   "display_name": "Python 3",
   "language": "python",
   "name": "python3"
  },
  "language_info": {
   "codemirror_mode": {
    "name": "ipython",
    "version": 3
   },
   "file_extension": ".py",
   "mimetype": "text/x-python",
   "name": "python",
   "nbconvert_exporter": "python",
   "pygments_lexer": "ipython3",
   "version": "3.11.9"
  }
 },
 "nbformat": 4,
 "nbformat_minor": 2
}
