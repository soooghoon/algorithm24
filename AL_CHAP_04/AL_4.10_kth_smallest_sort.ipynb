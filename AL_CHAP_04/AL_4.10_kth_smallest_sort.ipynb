{
 "cells": [
  {
   "cell_type": "markdown",
   "metadata": {},
   "source": [
    "---\n",
    "# 문제정의\n",
    "#### 정렬을 이용한 k번째 작은 수 찾기"
   ]
  },
  {
   "cell_type": "markdown",
   "metadata": {},
   "source": [
    "---\n",
    "# 알고리즘 \n",
    "#### 배열을 정렬하고 인덱스가 항목을 반환함"
   ]
  },
  {
   "cell_type": "markdown",
   "metadata": {},
   "source": [
    "---\n",
    "# 손으로 푼 예제\n",
    "![AL4 10_kth_smallest_sort](../img/img11.jpg)"
   ]
  },
  {
   "cell_type": "markdown",
   "metadata": {},
   "source": [
    "---\n",
    "# 코드 개요\n",
    "#### A.sort() 배열을 정렬\n",
    "#### return A[k-1] 인덱스가 k-1인 항목을 반환"
   ]
  },
  {
   "cell_type": "markdown",
   "metadata": {},
   "source": [
    "---\n",
    "# 알고리즘 코드"
   ]
  },
  {
   "cell_type": "code",
   "execution_count": 1,
   "metadata": {},
   "outputs": [],
   "source": [
    "def kth_smallest_sort(A, k):\n",
    "    A.sort()\n",
    "    return A[k-1]"
   ]
  },
  {
   "cell_type": "markdown",
   "metadata": {},
   "source": [
    "---\n",
    "# 테스트 코드"
   ]
  },
  {
   "cell_type": "code",
   "execution_count": 2,
   "metadata": {},
   "outputs": [
    {
     "name": "stdout",
     "output_type": "stream",
     "text": [
      "입력 리스트 = [12, 3, 5, 7, 4, 19, 26, 23, 15]\n",
      "[정렬기법] 3번째 작은 수:  5\n",
      "[정렬기법] 6번째 작은 수:  15\n"
     ]
    }
   ],
   "source": [
    "array = [12, 3, 5, 7, 4, 19, 26, 23, 15]\n",
    "print(\"입력 리스트 =\", array)\n",
    "print(\"[정렬기법] 3번째 작은 수: \", kth_smallest_sort(array,3))\n",
    "print(\"[정렬기법] 6번째 작은 수: \", kth_smallest_sort(array,6))"
   ]
  },
  {
   "cell_type": "markdown",
   "metadata": {},
   "source": [
    "---\n",
    "#수행결과\n",
    "\n",
    "![AL4.10_kth_smallest_sort_result](../img/img12.jpg)"
   ]
  },
  {
   "cell_type": "markdown",
   "metadata": {},
   "source": [
    "---\n",
    "# 복잡도 분석\n",
    "#### 시간 복잡도는 당연히 정렬의 시간 복잡도와 같다. 리스트에서 인덱스가 k-1인 항목을 써내는 연산은 O(1)으로 어떤 정렬 알고리즘의 복잡도보다 낮기 때문이다. 만약 선택정렬이나 삽입정렬을 사용한다면 복잡도는O(n2)이다."
   ]
  },
  {
   "cell_type": "markdown",
   "metadata": {},
   "source": [
    "---\n",
    "# 조별 협력 내용\n",
    "#### 팀원들과 검수 밑 내용 정리 후 마무리 하였음"
   ]
  }
 ],
 "metadata": {
  "kernelspec": {
   "display_name": "base",
   "language": "python",
   "name": "python3"
  },
  "language_info": {
   "codemirror_mode": {
    "name": "ipython",
    "version": 3
   },
   "file_extension": ".py",
   "mimetype": "text/x-python",
   "name": "python",
   "nbconvert_exporter": "python",
   "pygments_lexer": "ipython3",
   "version": "3.11.9"
  }
 },
 "nbformat": 4,
 "nbformat_minor": 2
}
