{
 "cells": [
  {
   "cell_type": "markdown",
   "metadata": {},
   "source": [
    "---\n",
    "# 문제정의\n",
    "#### 정렬된 두리스트의 병합"
   ]
  },
  {
   "cell_type": "markdown",
   "metadata": {},
   "source": [
    "---\n",
    "# 알고리즘 설명\n",
    "#### 병합(Combine, merge): 정렬된 부분 리스트들을 하나의 배열에 통합한다 병합 정렬은 하나의 리스트를 같은 크기의 두 개의 부분 리스트로 분할하고 분할된 부분 리스트를 정렬한 다음 정렬된 리스트를 병합하는 전략을 사용한다. "
   ]
  },
  {
   "cell_type": "markdown",
   "metadata": {},
   "source": [
    "---\n",
    "# 손으로 푼 예제"
   ]
  },
  {
   "cell_type": "markdown",
   "metadata": {},
   "source": [
    "---\n",
    "# 코드 개요\n",
    "#### 주석참고"
   ]
  },
  {
   "cell_type": "markdown",
   "metadata": {},
   "source": [
    "---\n",
    "# 알고리즘 코드\n",
    "####"
   ]
  },
  {
   "cell_type": "code",
   "execution_count": 24,
   "metadata": {},
   "outputs": [],
   "source": [
    "def merge_sort(A, left, right): #A오름차순 정렬 \n",
    "    if left < right: #항목이 2개 이상인 경우 \n",
    "        mid = (left + right) // 2 #리스트의 균등 분할\n",
    "        merge_sort(A, left, mid) #부분 리스트 정렬\n",
    "        merge_sort(A, mid + 1, right) #부분 리스트 정렬\n",
    "        merge(A, left, mid, right) #병합\n",
    "\n",
    "def merge(A, left, mid, right):\n",
    "    k = left #병합을 위한 임시 리스트의 인덱스\n",
    "    i = left #왼쪽 리스트의 인덱스\n",
    "    j = mid + 1 #오른쪽 리스트의 인덱스\n",
    "    while i <= mid and j <= right:\n",
    "        if A[i] <= A[j]: #기본연산 \n",
    "            sorted[k] = A[i]\n",
    "            i, k = i+1, k+1\n",
    "        else:\n",
    "            sorted[k] = A[j]\n",
    "            j, k = j+1, k+1\n",
    "    if i > mid: #한쪽에 남아 있는 레코드의 일괄 복사\n",
    "        sorted[k:k+right-j+1] = A[j:right+1] #리스트의 슬라이싱 이용 \n",
    "    else:\n",
    "        sorted[k:k+mid-i+1] = A[i:mid+1] #리스트의 슬라이싱 이용 \n",
    "    A[left:right+1] = sorted[left:right+1] # sorted를 A에 다시 복사 \n"
   ]
  },
  {
   "cell_type": "markdown",
   "metadata": {},
   "source": [
    "---\n",
    "# 테스트 코드\n",
    "####"
   ]
  },
  {
   "cell_type": "code",
   "execution_count": 25,
   "metadata": {},
   "outputs": [
    {
     "name": "stdout",
     "output_type": "stream",
     "text": [
      "Original : [5, 3, 8, 4, 9, 1, 6, 2, 7]\n",
      "MergeSort : [1, 2, 3, 4, 5, 6, 7, 8, 9]\n"
     ]
    }
   ],
   "source": [
    "data = [5, 3, 8, 4, 9, 1, 6, 2, 7]\n",
    "sorted = [0] * len(data) # 길이가 len(data)인 임시 리스트를 \n",
    "print(\"Original :\", data) # 만들고 모든 항목을 0으로 초기화 \n",
    "merge_sort(data, 0, len(data)-1) # 병합 정렬\n",
    "print(\"MergeSort :\", data)"
   ]
  },
  {
   "cell_type": "markdown",
   "metadata": {},
   "source": [
    "---\n",
    "# 수행결과\n",
    "![5.2 result](../img/img13.jpg)"
   ]
  },
  {
   "cell_type": "markdown",
   "metadata": {},
   "source": [
    "---\n",
    "# 복잡도 분석\n",
    "#### 병합 정렬은 O(nlog₂n)의 복잡도로 매우 효율적인 정렬 방법의 하나이다 입력 데이터가 어떻게 이루어져 있는지에 상관없이 동일한 시간에 정렬된다 공간 복잡도 최악의 경우: 병합 정렬은 추가 배열을 사용하기 때문에  O(n)의 공간 복잡도를 가진다 \n"
   ]
  },
  {
   "cell_type": "markdown",
   "metadata": {},
   "source": [
    "---\n",
    "# 조별 협력 내용\n",
    "\n",
    "#### 팀원이랑  함께 협력하여 알고리즘을 풀었음 "
   ]
  }
 ],
 "metadata": {
  "kernelspec": {
   "display_name": "Python 3",
   "language": "python",
   "name": "python3"
  },
  "language_info": {
   "codemirror_mode": {
    "name": "ipython",
    "version": 3
   },
   "file_extension": ".py",
   "mimetype": "text/x-python",
   "name": "python",
   "nbconvert_exporter": "python",
   "pygments_lexer": "ipython3",
   "version": "3.11.9"
  }
 },
 "nbformat": 4,
 "nbformat_minor": 2
}
