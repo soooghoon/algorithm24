{
 "cells": [
  {
   "cell_type": "markdown",
   "metadata": {},
   "source": [
    "---\n",
    "# 문제정의\n",
    "#### 퀵 정렬은 평균적으로 매우 빠른 수행 속도를 자랑하는 알고리즘으로 분할 정복 전략을 사용한다."
   ]
  },
  {
   "cell_type": "markdown",
   "metadata": {},
   "source": [
    "---\n",
    "# 알고리즘 설명\n",
    "#### 순환구조를 이용하여 입력리스트인 A와 정렬범위를 나타내는 left와 right를 이용하는 알고리즘이다."
   ]
  },
  {
   "cell_type": "markdown",
   "metadata": {},
   "source": [
    "---\n",
    "# 손으로 푼 예제\n",
    "![5.3 result](../img/img17.jpg)"
   ]
  },
  {
   "cell_type": "markdown",
   "metadata": {},
   "source": [
    "---\n",
    "# 코드 개요\n",
    "#### 코드를 실행하면 data라는 이름의 배열을 생성하고\n",
    "#### Quick_sort 함수는 주어진 배열을 정렬하는 역할을 한다.\n",
    "#### 배열의 왼쪽과 오른쪽 인덱스를 인자로 받아, 왼쪽 인덱스가 오른쪽 인덱스보다 작은 경우에만 정렬을 수행한다.\n",
    "#### 정렬은 partition 함수를 호출하여 피벗을 기준으로 배열을 두 부분으로 나눈 후, 각 부분을 재귀적으로 정렬한다.\n",
    "#### partition 함수는 배열을 피벗을 기준으로 두 부분으로 나눈다.\n",
    "#### 왼쪽에서부터 피벗보다 큰 요소를 찾고, 오른쪽에서부터 피벗보다 작은 요소를 찾아 두 요소의 위치를 바꾼다.\n",
    "#### 이 과정을 반복하여 피벗을 기준으로 작은 요소들은 왼쪽에, 큰 요소들은 오른쪽에 위치하도록 한다."
   ]
  },
  {
   "cell_type": "markdown",
   "metadata": {},
   "source": [
    "---\n",
    "# 알고리즘 코드"
   ]
  },
  {
   "cell_type": "code",
   "execution_count": 4,
   "metadata": {},
   "outputs": [],
   "source": [
    "def quick_sort(A, left, right):\n",
    "    if left < right:\n",
    "        mid = partition(A, left, right)\n",
    "        quick_sort(A, left, mid - 1)\n",
    "        quick_sort(A, mid+1, right)\n",
    "def partition(A, left, right):\n",
    "    low = left + 1\n",
    "    high = right\n",
    "    pivot = A[left]\n",
    "    while(low <= high):\n",
    "        while low <= right and A[low] <= pivot : low += 1\n",
    "        while high >= left and A[high] > pivot : high -= 1\n",
    "        if low < high:\n",
    "            A[low], A[high] = A[high], A[low]\n",
    "    A[left], A[high] = A[high], A[left]\n",
    "    return high"
   ]
  },
  {
   "cell_type": "markdown",
   "metadata": {},
   "source": [
    "---\n",
    "# 테스트 코드"
   ]
  },
  {
   "cell_type": "code",
   "execution_count": 6,
   "metadata": {},
   "outputs": [
    {
     "name": "stdout",
     "output_type": "stream",
     "text": [
      "Original : [5, 3, 8, 4, 9, 1, 6, 2, 7]\n",
      "QuickSort : [1, 2, 3, 4, 5, 6, 7, 8, 9]\n"
     ]
    }
   ],
   "source": [
    "data = [5, 3, 8, 4, 9, 1, 6, 2, 7]\n",
    "print(\"Original :\",data)\n",
    "quick_sort(data, 0, len(data) - 1)\n",
    "print(\"QuickSort :\", data)"
   ]
  },
  {
   "cell_type": "markdown",
   "metadata": {},
   "source": [
    "---\n",
    "# 수행 결과\n",
    "![5 3 result](../img/Chapter%2005/5.3%20result.png)"
   ]
  },
  {
   "cell_type": "markdown",
   "metadata": {},
   "source": [
    "---\n",
    "# 복잡도 분석\n",
    "#### O(n log n)\n"
   ]
  },
  {
   "cell_type": "markdown",
   "metadata": {},
   "source": [
    "---\n",
    "# 조별 협력 내용\n",
    "#### 코드를 만들고 공유하는 과정에서 팀원들과의 소통을 통해 해결했습니다.\n",
    "---"
   ]
  }
 ],
 "metadata": {
  "kernelspec": {
   "display_name": "Python 3",
   "language": "python",
   "name": "python3"
  },
  "language_info": {
   "codemirror_mode": {
    "name": "ipython",
    "version": 3
   },
   "file_extension": ".py",
   "mimetype": "text/x-python",
   "name": "python",
   "nbconvert_exporter": "python",
   "pygments_lexer": "ipython3",
   "version": "3.12.2"
  }
 },
 "nbformat": 4,
 "nbformat_minor": 2
}
