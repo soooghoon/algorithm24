{
 "cells": [
  {
   "cell_type": "markdown",
   "metadata": {},
   "source": [
    "---\n",
    "# 문제정의\n",
    "### 병합정렬은 하나의 리스트를 같은 크기의 두 개의 부분 리스트로 분할하고, 분할된 부분리스트를 정렬한 다음, 정렬된 리스트를 병합하는 전략을 사용한다"
   ]
  },
  {
   "cell_type": "markdown",
   "metadata": {},
   "source": [
    "---\n",
    "# 알고리즘 설명\n",
    "### 분할: 입력리스트를 같은 크기의 2개의 부분 리스트로 분할한다.\n",
    "### 정복: 부분리스트를 정렬한다. 이때 부분 리스트의 크기가 충분히 작지 않으면 순환 호출을 이용하여 다시 분할 정복 기법을 적용한다. \n",
    "### 리스트의 크기가 1이면 이미 정복(정렬)된 것이다.\n",
    "### 병합: 정렬된 부분 리스트들을 하나의 배열에 통합한다."
   ]
  },
  {
   "cell_type": "markdown",
   "metadata": {},
   "source": [
    "---\n",
    "# 손으로 푼 예제\n",
    "![AL 5.1_merge_sort](../img/AL5.1_merge_sort_hand.png)"
   ]
  },
  {
   "cell_type": "markdown",
   "metadata": {
    "vscode": {
     "languageId": "plaintext"
    }
   },
   "source": [
    "---\n",
    "# 코드개요\n",
    "## 주석 참고"
   ]
  },
  {
   "cell_type": "markdown",
   "metadata": {},
   "source": [
    "---\n",
    "# 알고리즘 코드"
   ]
  },
  {
   "cell_type": "code",
   "execution_count": 3,
   "metadata": {},
   "outputs": [],
   "source": [
    "def merge_sort(A, left, right): #A[left,right]를 오름차순으로 정렬\n",
    "    if left<right: # 항목이 2개 이상인 경우\n",
    "        mid = (left+right)//2 # 리스트의 균등 분할\n",
    "        merge_sort(A,left,mid) # 부분 리스트 정렬\n",
    "        merge_sort(A,mid+1,right) # 부분 리스트 정렬\n",
    "        merge(A,left,mid,right) # 병합\n",
    "def merge(A,left,mid, right): \n",
    "    k=left # 병합을 위한 임시 리스트의 인덱스\n",
    "    i=left # 왼쪽 리스트의 인덱스\n",
    "    j=mid+1 # 오른쪽 리스트의 인덱스\n",
    "    while i<=mid and j<=right:\n",
    "        if A[i]<=A[j]: # 기본 연산\n",
    "            sorted[k] = A[i]\n",
    "            i,k = i+1,k+1\n",
    "        else:\n",
    "            sorted[k]=A[j]\n",
    "            j,k = j+1,k+1\n",
    "    if i>mid: # 한쪽에 남아 있는 레코드의 일괄 복사\n",
    "        sorted[k:k+right-j+1]=A[j:right+1] # 리스트의 슬라이싱 이용\n",
    "    else:\n",
    "        sorted[k:k+mid-i+1]=A[i:mid+1] # 리스트의 슬라이싱 이용\n",
    "\n",
    "    A[left:right+1]=sorted[left:right+1] # sorted를 A에 다시 복사"
   ]
  },
  {
   "cell_type": "markdown",
   "metadata": {},
   "source": [
    "---\n",
    "# 테스트코드"
   ]
  },
  {
   "cell_type": "code",
   "execution_count": 4,
   "metadata": {},
   "outputs": [
    {
     "name": "stdout",
     "output_type": "stream",
     "text": [
      "Original : [5, 3, 8, 4, 9, 1, 6, 2, 7]\n",
      "MergeSort :  [1, 2, 3, 4, 5, 6, 7, 8, 9]\n"
     ]
    }
   ],
   "source": [
    "data = [5,3,8,4,9,1,6,2,7]\n",
    "sorted = [0]*len(data)\n",
    "print(\"Original :\", data)\n",
    "merge_sort(data,0,len(data)-1)\n",
    "print(\"MergeSort : \", data)"
   ]
  },
  {
   "cell_type": "markdown",
   "metadata": {},
   "source": [
    "---\n",
    "# 수행결과\n",
    "![ AL5.1_merge_sort](../img/AL5.1_merge_sort_result.png)"
   ]
  },
  {
   "cell_type": "markdown",
   "metadata": {},
   "source": [
    "---\n",
    "# 복잡도 분석\n",
    "$$T(n) = nT(1)+nlog₂n-(n-1)\\\\\n",
    "= nlog₂n-n+1\\\\\n",
    "\\in O(nlog₂n)$$"
   ]
  },
  {
   "cell_type": "markdown",
   "metadata": {},
   "source": []
  },
  {
   "cell_type": "markdown",
   "metadata": {},
   "source": [
    "---\n",
    "# 조별협력내용\n",
    "### 복잡도 분석의 코드를 함께 협력해서 수식으로 작성을 했습니다."
   ]
  }
 ],
 "metadata": {
  "kernelspec": {
   "display_name": "Python 3",
   "language": "python",
   "name": "python3"
  },
  "language_info": {
   "codemirror_mode": {
    "name": "ipython",
    "version": 3
   },
   "file_extension": ".py",
   "mimetype": "text/x-python",
   "name": "python",
   "nbconvert_exporter": "python",
   "pygments_lexer": "ipython3",
   "version": "3.11.2"
  }
 },
 "nbformat": 4,
 "nbformat_minor": 2
}
