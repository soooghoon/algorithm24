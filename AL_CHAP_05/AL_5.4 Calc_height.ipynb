{
 "cells": [
  {
   "cell_type": "markdown",
   "metadata": {},
   "source": [
    "---\n",
    "# 문제정의\n",
    "#### 이진트리 공집합이거나 루트와 왼쪽 서브트리 오른쪽 서브 트리로 구성된 노드들의 집합 이진트리 서브 트리들은 모두 이진트리이어야 한다."
   ]
  },
  {
   "cell_type": "markdown",
   "metadata": {},
   "source": [
    "---\n",
    "# 알고리즘 설명\n",
    "####  알고리즘 입력은 노드 루트로 어떤 트리의 루트를 나타낸다 루트가 NONE 이면 공백트리 높이 0을 바로 반환한다 공백트리가 아니면 두서브 트리의 높이를 계산하고 순환 호출이 사용된다 분할: 트리의 루트의 왼쪽 서브 트리와 오른쪽 트리로 나눈다 몰론 이미 나누어져 있다  결합: 좌우 서브 트리의 높이가 구해지면 전체 트리의 높이는 이등 중 큰 값에 1을 더한것과 같다 "
   ]
  },
  {
   "cell_type": "markdown",
   "metadata": {},
   "source": [
    "---\n",
    "# 손으로 푼 예제\n",
    "![5.4 result](../img/img16.jpg)"
   ]
  },
  {
   "cell_type": "markdown",
   "metadata": {},
   "source": [
    "---\n",
    "# 코드 개요\n",
    "#### 주석참고"
   ]
  },
  {
   "cell_type": "markdown",
   "metadata": {},
   "source": [
    "---\n",
    "# 알고리즘 코드\n",
    "####"
   ]
  },
  {
   "cell_type": "code",
   "execution_count": 27,
   "metadata": {},
   "outputs": [],
   "source": [
    "class TNode: #이진트리를 위한 노드클래스\n",
    "    def __init__(self,data,left,right): #생성자\n",
    "        self.data = data #노드의 데이터\n",
    "        self.left = left #왼쪽 자식을 위한 링크\n",
    "        self.right = right #오른쪽 자식을 위한 링크\n",
    "\n",
    "def calc_height(root): #루트노드\n",
    "    if root is None: #공백 트리이면 0을 반환\n",
    "        return 0 #높이가 0->0을 반환\n",
    "    hLeft = calc_height(root.left) #왼쪽트리의 높이 hleft\n",
    "    hRight = calc_height(root.right) #오른쪽트리의 높이 hright\n",
    "    return max(hLeft, hRight) + 1 #더높은 높이에 1을 더해 반환 "
   ]
  },
  {
   "cell_type": "markdown",
   "metadata": {},
   "source": [
    "---\n",
    "# 테스트 코드\n",
    "####"
   ]
  },
  {
   "cell_type": "code",
   "execution_count": 28,
   "metadata": {},
   "outputs": [
    {
     "name": "stdout",
     "output_type": "stream",
     "text": [
      "트리의 높이 = 3\n"
     ]
    }
   ],
   "source": [
    "d = TNode('D', None, None)\n",
    "e = TNode('E', None, None)\n",
    "b = TNode('B', d, e)\n",
    "f = TNode('F', None, None)\n",
    "c = TNode('C', f, None)\n",
    "root = TNode('A', b, c)\n",
    "\n",
    "print(\"트리의 높이 =\", calc_height(root))"
   ]
  },
  {
   "cell_type": "markdown",
   "metadata": {},
   "source": [
    "---\n",
    "# 수행결과\n",
    "![5.4 result](../img/img14.png)"
   ]
  },
  {
   "cell_type": "markdown",
   "metadata": {},
   "source": [
    "---\n",
    "# 복잡도 분석\n",
    "#### T(n) = T(nleft) + T(nright) + 1 for n > 0 / T(0) = 0 모든 노드에서 왼쪽과 오른쪽 서브트리의 높이를 구한후 최댓값에 1을 더해야하고 이진트리의 모든 트리의 모든 노드에서 한번의 덧셈연산이 필요하고 시간복잡도는 0(n)이다 "
   ]
  },
  {
   "cell_type": "markdown",
   "metadata": {},
   "source": [
    "---\n",
    "# 조별 협력 내용\n",
    "\n",
    "#### 팀원이랑  함께 협력하여 알고리즘을 풀었음 "
   ]
  }
 ],
 "metadata": {
  "kernelspec": {
   "display_name": "Python 3",
   "language": "python",
   "name": "python3"
  },
  "language_info": {
   "codemirror_mode": {
    "name": "ipython",
    "version": 3
   },
   "file_extension": ".py",
   "mimetype": "text/x-python",
   "name": "python",
   "nbconvert_exporter": "python",
   "pygments_lexer": "ipython3",
   "version": "3.11.9"
  }
 },
 "nbformat": 4,
 "nbformat_minor": 2
}
