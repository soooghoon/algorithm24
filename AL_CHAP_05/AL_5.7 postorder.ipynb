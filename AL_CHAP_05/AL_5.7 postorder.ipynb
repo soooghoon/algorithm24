{
 "cells": [
  {
   "cell_type": "markdown",
   "metadata": {},
   "source": [
    "---\n",
    "# 문제정의\n",
    "\n",
    "#### 이진트리의 순회연산중 후위 순회(postorder)"
   ]
  },
  {
   "cell_type": "markdown",
   "metadata": {},
   "source": [
    "---\n",
    "# 알고리즘 설명\n",
    "\n",
    "#### 후위 순회(postorder)는 V(루트 노드), R(오른쪽 서브 트리), L(왼쪽 서브 트리) 중 L -> R -> V 순으로 처리하는 방식이다"
   ]
  },
  {
   "cell_type": "markdown",
   "metadata": {},
   "source": [
    "---\n",
    "# 손으로 푼 예제\n",
    "\n",
    "![AL 5.07_postorder](https://raw.githubusercontent.com/Karuperu/Algorithm24/276d501e889090b186cb55464fe394478689b97e/img/Chapter%2005/AL5.07_postorder_hand.jpg)"
   ]
  },
  {
   "cell_type": "markdown",
   "metadata": {},
   "source": [
    "---\n",
    "# 코드 개요\n",
    "\n",
    "#### postorder(n.left) 왼쪽 서브 트리처리\n",
    "#### postorder(n.right) 오른쪽 서브 트리처리\n",
    "#### print(n.data, end = ' ') 루트노드 처리(화면 출력)"
   ]
  },
  {
   "cell_type": "markdown",
   "metadata": {},
   "source": [
    "---\n",
    "# 알고리즘 코드"
   ]
  },
  {
   "cell_type": "code",
   "execution_count": 1,
   "metadata": {},
   "outputs": [],
   "source": [
    "class TNode:\n",
    "    def __init__(n, data, left, right):\n",
    "        n.data = data\n",
    "        n.left = left\n",
    "        n.right = right\n",
    "def postorder(n):\n",
    "    if n is not None:\n",
    "        postorder(n.left)\n",
    "        postorder(n.right)\n",
    "        print(n.data, end ='')"
   ]
  },
  {
   "cell_type": "markdown",
   "metadata": {},
   "source": [
    "---\n",
    "# 테스트 코드"
   ]
  },
  {
   "cell_type": "code",
   "execution_count": 2,
   "metadata": {},
   "outputs": [
    {
     "name": "stdout",
     "output_type": "stream",
     "text": [
      " Post-Order : DEBFCA\n"
     ]
    }
   ],
   "source": [
    "d = TNode('D', None, None)\n",
    "e = TNode('E', None, None)\n",
    "b = TNode('B', d, e)\n",
    "f = TNode('F', None, None)\n",
    "c = TNode('C', f, None)\n",
    "root = TNode('A', b, c)\n",
    "\n",
    "print(' Post-Order : ', end ='')\n",
    "postorder(root)\n",
    "print()"
   ]
  },
  {
   "cell_type": "markdown",
   "metadata": {},
   "source": [
    "---\n",
    "# 수행결과\n",
    "![AL 5.07_postorder](https://raw.githubusercontent.com/Karuperu/Algorithm24/276d501e889090b186cb55464fe394478689b97e/img/Chapter%2005/AL5.07_postorder_result.PNG)"
   ]
  },
  {
   "cell_type": "markdown",
   "metadata": {},
   "source": [
    "---\n",
    "# 복잡도 분석\n",
    "#### 각 알고리즘에서 출력문 print(n.data, end ='')을 기본 연산으로 하면 복잡도 함수는 명확히T(n) = n 이고 O(n)에 속한다.\n",
    "#### 모든 알고리즘에서 2행의 공백트리 검사를 기본연산으로 한다면 확장된 트리의 모든 노드에서 검사가 이루어져야 한다. 따라서 T(n) = n + x 이고, 역시 O(n)에 속한다."
   ]
  },
  {
   "cell_type": "markdown",
   "metadata": {},
   "source": [
    "---\n",
    "# 조별 협력 내용\n",
    "\n",
    "#### 팀원들과 검수 밑 내용 정리 후 마무리 하였음"
   ]
  }
 ],
 "metadata": {
  "kernelspec": {
   "display_name": "Python 3",
   "language": "python",
   "name": "python3"
  },
  "language_info": {
   "codemirror_mode": {
    "name": "ipython",
    "version": 3
   },
   "file_extension": ".py",
   "mimetype": "text/x-python",
   "name": "python",
   "nbconvert_exporter": "python",
   "pygments_lexer": "ipython3",
   "version": "3.12.2"
  }
 },
 "nbformat": 4,
 "nbformat_minor": 2
}
