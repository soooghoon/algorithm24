{
 "cells": [
  {
   "cell_type": "markdown",
   "metadata": {},
   "source": [
    "---\n",
    "# 문제정의\n",
    "#### 최근접 쌍의 거리를 구하여라."
   ]
  },
  {
   "cell_type": "markdown",
   "metadata": {},
   "source": [
    "---\n",
    "# 알고리즘 설명\n",
    "#### P는 이미 x의 오름차순으로 정렬되어있다고 가정하고 만약 점이 3개 이하이면 억지 기법으로 바로 계산한다."
   ]
  },
  {
   "cell_type": "markdown",
   "metadata": {},
   "source": [
    "---\n",
    "# 손으로 푼 예제\n",
    "![5.9 hand](https://raw.githubusercontent.com/Karuperu/Algorithm24/276d501e889090b186cb55464fe394478689b97e/img/Chapter%2005/AL5.9%20hand.jpg)"
   ]
  },
  {
   "cell_type": "markdown",
   "metadata": {},
   "source": [
    "---\n",
    "# 코드 개요\n",
    "#### 이 알고리즘은 2차원 평면에서 주어진 점들 중에서 가장 가까운 두 점의 거리를 찾는 문제다.\n",
    "#### distance(p1, p2): 두 점 p1과 p2 사이의 유클리드 거리를 계산한다.\n",
    "#### closest_pair(p): 주어진 점들의 리스트 p에서 가장 가까운 두 점의 거리를 찾는다. 모든 점 쌍의 거리를 계산하고 그 중에서 가장 작은 거리를 반환한다.\n",
    "#### strip_closest(P, d): 주어진 점들의 리스트 P에서 d보다 작은 거리를 가지는 점 쌍을 찾는다. 점들을 y 좌표에 따라 d보다 작은 거리를 가지는 다른 점들을 찾는다.\n",
    "#### closest_pair_dist(P, n): 주어진 점들의 리스트 P에서 가장 가까운 두 점의 거리를 찾는다. 분할 정복 알고리즘을 사용하여 문제를 분할하고 문제의 해를 결합하여 해를 찾는다.\n",
    "#### p는 입력으로 사용되는 점들의 리스트이며 closest_pair_dist(p, len(p))는 p에서 가장 가까운 두 점의 거리를 계산하고 출력한다."
   ]
  },
  {
   "cell_type": "markdown",
   "metadata": {},
   "source": [
    "---\n",
    "# 알고리즘 코드"
   ]
  },
  {
   "cell_type": "code",
   "execution_count": 3,
   "metadata": {},
   "outputs": [],
   "source": [
    "import math\n",
    "def distance(p1, p2):\n",
    "    return math.sqrt((p1[0]-p2[0])**2 + (p1[1]-p2[1])**2)\n",
    "\n",
    "def closest_pair(p):\n",
    "    n = len(p)\n",
    "    mindist = float(\"inf\")\n",
    "    for i in range(n-1):\n",
    "        for j in range(i+1, n):\n",
    "            dist = distance(p[i], p[j])\n",
    "            if dist < mindist:\n",
    "                mindist = dist\n",
    "    return mindist\n",
    "\n",
    "def strip_closest(P, d):\n",
    "    n = len(P)\n",
    "    d_min = d\n",
    "    P.sort(key = lambda point:point[1])\n",
    "    for i in range(n):\n",
    "        j = i + 1\n",
    "        while j < n and (P[j][1] - P[i][1]) < d_min:\n",
    "            dij = distance(P[i],P[j])\n",
    "            if dij < d_min:\n",
    "                d_min = dij\n",
    "            j += 1\n",
    "    return d_min\n",
    "\n",
    "def closest_pair_dist(P, n):\n",
    "    if n <= 3:\n",
    "        return closest_pair(P)\n",
    "    mid = n // 2\n",
    "    mid_x = P[mid][0]\n",
    "    dl = closest_pair_dist(P[:mid], mid)\n",
    "    dr = closest_pair_dist(P[mid:], n-mid)\n",
    "    d = min(dl, dr)\n",
    "    Pm = []\n",
    "    for i in range(n):\n",
    "        if abs(P[i][0] - mid_x) < d:\n",
    "            Pm.append(P[i])\n",
    "    ds = strip_closest(Pm, d)\n",
    "    return ds"
   ]
  },
  {
   "cell_type": "markdown",
   "metadata": {},
   "source": [
    "---\n",
    "# 테스트 코드"
   ]
  },
  {
   "cell_type": "code",
   "execution_count": 4,
   "metadata": {},
   "outputs": [
    {
     "name": "stdout",
     "output_type": "stream",
     "text": [
      "가장 가까운 두 점의 거리 1.4142135623730951\n"
     ]
    }
   ],
   "source": [
    "p = [(2,3),(12,30),(40,50),(5,1),(12,10),(3,4)]\n",
    "p.sort(key = lambda point:point[0])\n",
    "print(\"가장 가까운 두 점의 거리\", closest_pair_dist(p, len(p)))"
   ]
  },
  {
   "cell_type": "markdown",
   "metadata": {},
   "source": [
    "---\n",
    "# 수행결과\n",
    "![5.9 result](https://raw.githubusercontent.com/Karuperu/Algorithm24/276d501e889090b186cb55464fe394478689b97e/img/Chapter%2005/5.9%20result.png)"
   ]
  },
  {
   "cell_type": "markdown",
   "metadata": {},
   "source": [
    "---\n",
    "# 복잡도 분석\n",
    "#### 전체 알고리즘의 시간 복잡도는 O(n log n)이다."
   ]
  },
  {
   "cell_type": "markdown",
   "metadata": {},
   "source": [
    "---\n",
    "# 조별 협력 내용\n",
    "#### 팀원과 협력하여 5.8, 5.9알고리즘을 풀었음 "
   ]
  }
 ],
 "metadata": {
  "kernelspec": {
   "display_name": "Python 3",
   "language": "python",
   "name": "python3"
  },
  "language_info": {
   "codemirror_mode": {
    "name": "ipython",
    "version": 3
   },
   "file_extension": ".py",
   "mimetype": "text/x-python",
   "name": "python",
   "nbconvert_exporter": "python",
   "pygments_lexer": "ipython3",
   "version": "3.12.2"
  }
 },
 "nbformat": 4,
 "nbformat_minor": 2
}
