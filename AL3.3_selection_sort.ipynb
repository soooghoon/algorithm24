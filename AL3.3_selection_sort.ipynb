{
 "cells": [
  {
   "cell_type": "markdown",
   "metadata": {},
   "source": [
    "---\n",
    "# 문제 정의\n",
    "#### 길이가 n인 입력 문자열 T와 길이가 m인 패턴 문자열 P가 있다. T에서 가장 먼저 나타나는 P의 위치를 찾아라. 패턴이 없으면 -1을 반환하라."
   ]
  },
  {
   "cell_type": "markdown",
   "metadata": {},
   "source": [
    "---\n",
    "# 알고리즘 설명\n",
    "#### 텍스트의 첫 번째 문자 위치에 패턴을 놓고 비교한다. 이과정을 패턴을 오른쪽으로 한 칸씩 옮기면서 성공한 매칭이 나타날 때까지 반복한다."
   ]
  },
  {
   "cell_type": "markdown",
   "metadata": {},
   "source": [
    "---\n",
    "# 손으로 푼 예제 수행결과\n",
    "![3 3 handmade](https://github.com/Karuperu/Algorithm24/assets/162394168/2683a7ec-aa97-4493-b257-d33c852baaa4)"
   ]
  },
  {
   "cell_type": "markdown",
   "metadata": {},
   "source": [
    "---\n",
    "# 코드 개요\n",
    "#### 주석 참고"
   ]
  },
  {
   "cell_type": "markdown",
   "metadata": {},
   "source": [
    "---\n",
    "# 알고리즘 코드"
   ]
  },
  {
   "cell_type": "code",
   "execution_count": 2,
   "metadata": {},
   "outputs": [],
   "source": [
    "def string_matching(T, P): #억지 기법 문자열 매칭 알고리즘. 입력 문자열 T와 패턴 P가 입력된다. \n",
    "    n = len(T)\n",
    "    m = len(P)\n",
    "    for i in range(n-m+1): # 모든 가능한 패턴의 위치에 대해\n",
    "        j = 0\n",
    "        while j < m and P[j] == T[i +j]: #패턴의 문자들을 비교하고 모두 일치하면(j == m) 위치를 반환한다.(return i)\n",
    "            j = j +1\n",
    "        if j ==m:\n",
    "            return i\n",
    "    return -1 # 모두 일치하는 경우가 없으면 매칭 실패이고 -1을 반환한다."
   ]
  },
  {
   "cell_type": "markdown",
   "metadata": {},
   "source": [
    "---\n",
    "# 테스트 코드"
   ]
  },
  {
   "cell_type": "code",
   "execution_count": null,
   "metadata": {},
   "outputs": [],
   "source": [
    "text = 'ALGORITHM'\n",
    "pattern ='GO'\n",
    "print( pattern, 'in', text, '-->', string_matching(text, pattern))\n",
    "pattern ='TT'\n",
    "print( pattern, 'in', text, '-->', string_matching(text, pattern))"
   ]
  },
  {
   "cell_type": "markdown",
   "metadata": {},
   "source": [
    "---\n",
    "# 수행결과\n",
    "![3 3 result](https://github.com/Karuperu/Algorithm24/assets/162394168/ee43e0ea-84c1-4bbf-9103-856e85add960)\n"
   ]
  },
  {
   "cell_type": "markdown",
   "metadata": {},
   "source": [
    "---\n",
    "# 복잡도 분석\n",
    "#### 이 알고리즘의 처리시간은 입력 텍스트와 패턴이 길수록 더 오래 걸릴 것이다. 최선의 경우는 텍스트 T 맨 앞의 문자열이 패턴 P와 일치하는 경우이다.\n",
    "#### 최악의 경우는 텍스트와 패턴을 끝까지 검사하고 매칭 실패를 하는것이다."
   ]
  },
  {
   "cell_type": "markdown",
   "metadata": {},
   "source": [
    "---\n",
    "# 조별 협력 내용\n",
    "#### 팀원들과 의견을 나누며 위 내용을 작성했습니다.\n",
    "---"
   ]
  }
 ],
 "metadata": {
  "kernelspec": {
   "display_name": "base",
   "language": "python",
   "name": "python3"
  },
  "language_info": {
   "codemirror_mode": {
    "name": "ipython",
    "version": 3
   },
   "file_extension": ".py",
   "mimetype": "text/x-python",
   "name": "python",
   "nbconvert_exporter": "python",
   "pygments_lexer": "ipython3",
   "version": "3.11.7"
  }
 },
 "nbformat": 4,
 "nbformat_minor": 2
}
