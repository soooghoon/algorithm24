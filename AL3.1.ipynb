{
 "cells": [
  {
   "cell_type": "markdown",
   "metadata": {},
   "source": [
    "---\n",
    "# 문제 정의\n",
    "#### 리스트 n개의 항목들이 들어 있다. 이들은 키의 순서에 따라 오름차순 으로 재배치하라"
   ]
  },
  {
   "cell_type": "markdown",
   "metadata": {},
   "source": [
    "---\n",
    "# 알고리즘 설명\n",
    "#### 정렬이 안 된 리스트에서 최솟값이 선택되며 이 값을 새로운 리스트에 저장하는 것이 아니라 첫번 째 요소와 교환한다 "
   ]
  },
  {
   "cell_type": "markdown",
   "metadata": {},
   "source": [
    "---\n",
    "# 손으로 푼 예제\n",
    "![3 1 handmade](https://github.com/Karuperu/Algorithm24/assets/162394168/5d7f05be-cf56-4b0a-8a7d-cb1d4021b2b7)"
   ]
  },
  {
   "cell_type": "markdown",
   "metadata": {},
   "source": [
    "---\n",
    "# 코드 개요\n",
    "#### 주석 참고 "
   ]
  },
  {
   "cell_type": "markdown",
   "metadata": {},
   "source": [
    "---\n",
    "# 알고리즘 코드 "
   ]
  },
  {
   "cell_type": "code",
   "execution_count": null,
   "metadata": {},
   "outputs": [],
   "source": [
    "def printStep(arr, val): #중간과정 출력용 함수\n",
    "    print(\" Step %2d = \" % val, end='') #현재 단계 출력\n",
    "    print(arr) #리스트의 내용을 출력\n",
    "\n",
    "def selection_sort(A) : # 선택 정렬\n",
    "    n = len(A)  #n: 리스트 A의 길이\n",
    "    for i in range(n-1): #0,1,2,....n-2 [외부 루프]\n",
    "        least = i\n",
    "        for j in range(i+1, n): #i+1 .... n-1 (내부 루프)\n",
    "            if A[j] < A[least]: #비교 연산\n",
    "                least = j #최소항목 갱신\n",
    "        A[i], A[least] = A[least], A[i] #배열 항목 교환 \n",
    "        printStep(A, i+1) #중간 과정 출력용 문장 "
   ]
  },
  {
   "cell_type": "markdown",
   "metadata": {},
   "source": [
    "---\n",
    "# 테스트 코드 "
   ]
  },
  {
   "cell_type": "code",
   "execution_count": null,
   "metadata": {},
   "outputs": [],
   "source": [
    "data = [3,5,1,2,7,6,4,9,8]\n",
    "print(\"Original : \", data)\n",
    "selection_sort(data)\n",
    "print(\"Selection : \", data)\n"
   ]
  },
  {
   "cell_type": "markdown",
   "metadata": {},
   "source": [
    "---\n",
    "# 수행결과\n",
    "![3 1 result](https://github.com/Karuperu/Algorithm24/assets/162394168/63badbed-49df-41db-bb5c-e0627ec2c560)"
   ]
  },
  {
   "cell_type": "markdown",
   "metadata": {},
   "source": [
    "---\n",
    "# 복잡도 분석 \n",
    "![3 1 complexity](https://github.com/Karuperu/Algorithm24/assets/162394168/e316d002-d30d-4e7e-be7d-09b7cc543350)"
   ]
  },
  {
   "cell_type": "markdown",
   "metadata": {},
   "source": [
    "---\n",
    "# 조별 협력 내용\n",
    "#### 팀원이랑  함께 협력하여 알고리즘을 풀었음 \n",
    "---"
   ]
  }
 ],
 "metadata": {
  "kernelspec": {
   "display_name": "Python 3",
   "language": "python",
   "name": "python3"
  },
  "language_info": {
   "codemirror_mode": {
    "name": "ipython",
    "version": 3
   },
   "file_extension": ".py",
   "mimetype": "text/x-python",
   "name": "python",
   "nbconvert_exporter": "python",
   "pygments_lexer": "ipython3",
   "version": "3.11.9"
  }
 },
 "nbformat": 4,
 "nbformat_minor": 2
}
