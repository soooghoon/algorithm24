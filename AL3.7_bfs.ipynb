{
 "cells": [
  {
   "cell_type": "markdown",
   "metadata": {},
   "source": [
    "---\n",
    "# 문제정의\n",
    "#### BFS는 시작 정점으로부터 가까운 정점을 먼저 방문하고 멀리 떨어져 있는 정점을 나중에 방문하는 순회 방법이다."
   ]
  },
  {
   "cell_type": "markdown",
   "metadata": {},
   "source": [
    "---\n",
    "# 알고리즘 설명\n",
    "#### 시작 정점으로부터 가까운 정점을 차례로 저장하고, 저장된 순서대로 출력하는 알고리즘이다."
   ]
  },
  {
   "cell_type": "markdown",
   "metadata": {},
   "source": [
    "---\n",
    "# 손으로 푼 예제\n",
    "![3 7 handmade](https://github.com/Karuperu/Algorithm24/assets/162394168/7b4a6645-b790-43ef-9963-bc5721badab5)"
   ]
  },
  {
   "cell_type": "markdown",
   "metadata": {},
   "source": [
    "---\n",
    "# 코드 개요\n",
    "#### bfs(graph, start) 함수는 주어진 그래프에서 시작 노드 start로부터 BFS를 실행한다.\n",
    "#### visited 집합은 이미 방문한 노드를 추적하고 초기에 시작 노드를 방문했다고 표시한다.\n",
    "#### que라는 큐를 사용하여 BFS를 구현하며 시작 노드를 큐에 넣는다.\n",
    "#### 큐가 비어 있지 않다면 큐에서 노드를 하나씩 꺼내어 출력하고\n",
    "#### 해당 노드에 인접한 노드들 중에서 방문하지 않은 노드들을 큐에 넣고, visited에 표시하는 것을 반복한다."
   ]
  },
  {
   "cell_type": "markdown",
   "metadata": {},
   "source": [
    "---\n",
    "# 알고리즘 코드"
   ]
  },
  {
   "cell_type": "code",
   "execution_count": 4,
   "metadata": {},
   "outputs": [],
   "source": [
    "import queue\n",
    "def bfs(graph, start):\n",
    "    visited = {start}\n",
    "    que = queue.Queue()\n",
    "    que.put(start)\n",
    "    while not que.empty():\n",
    "        v = que.get()\n",
    "        print(v, end = ' ')\n",
    "        nbr = graph[v] - visited\n",
    "        for u in nbr:\n",
    "            visited.add(u)\n",
    "            que.put(u)"
   ]
  },
  {
   "cell_type": "markdown",
   "metadata": {},
   "source": [
    "---\n",
    "# 테스트 코드"
   ]
  },
  {
   "cell_type": "code",
   "execution_count": null,
   "metadata": {},
   "outputs": [],
   "source": [
    "mygraph = {\n",
    "    \"A\" : {\"B\",\"C\"},\n",
    "    \"B\" : {\"A\",\"D\"},\n",
    "    \"C\" : {\"A\",\"D\",\"E\"},\n",
    "    \"D\" : {\"B\",\"C\",\"F\"},\n",
    "    \"E\" : {\"C\",\"G\",\"H\"},\n",
    "    \"F\" : {\"D\"},\n",
    "    \"G\" : {\"E\",\"H\"},\n",
    "    \"H\" : {\"E\",\"G\"}\n",
    "}\n",
    "print(\"BFS : \",end='')\n",
    "bfs( mygraph, \"A\" )\n",
    "print()"
   ]
  },
  {
   "cell_type": "markdown",
   "metadata": {},
   "source": [
    "---\n",
    "# 수행결과\n",
    "![3 7 result](https://github.com/chani890/algorithm24/assets/162394168/ad3a4b19-e993-4787-a244-333e2b5cafc6)"
   ]
  },
  {
   "cell_type": "markdown",
   "metadata": {},
   "source": [
    "---\n",
    "# 복잡도 분석\n",
    "#### 그래프의 정점의 수를 n, 간선의 수를 e라고 할때 BFS 함수는 시작 노드에서 시작하여 모든 노드를 방문한다.\n",
    "#### 이 때 각 노드와 그에 인접한 노드를 한 번씩 방문한다.\n",
    "#### 방문한 노드는 visited 집합에 추가되므로, 각 노드는 한 번씩만 방문한다.\n",
    "#### 따라서 복잡도는 O(n+e)가 된다."
   ]
  },
  {
   "cell_type": "markdown",
   "metadata": {},
   "source": [
    "---\n",
    "# 조별 협력 내용\n",
    "#### 알고리즘 코드, 테스트 코드를 제외한 나머지 내용을 팀원들과 의견을 나누며 작성했습니다.\n",
    "---"
   ]
  }
 ],
 "metadata": {
  "kernelspec": {
   "display_name": "Python 3",
   "language": "python",
   "name": "python3"
  },
  "language_info": {
   "codemirror_mode": {
    "name": "ipython",
    "version": 3
   },
   "file_extension": ".py",
   "mimetype": "text/x-python",
   "name": "python",
   "nbconvert_exporter": "python",
   "pygments_lexer": "ipython3",
   "version": "3.12.2"
  }
 },
 "nbformat": 4,
 "nbformat_minor": 2
}
